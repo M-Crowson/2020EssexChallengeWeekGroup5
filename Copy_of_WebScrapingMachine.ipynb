{
  "nbformat": 4,
  "nbformat_minor": 0,
  "metadata": {
    "colab": {
      "name": "Copy of WebScrapingMachine.ipynb",
      "provenance": [],
      "collapsed_sections": [],
      "authorship_tag": "ABX9TyObWJTJrxffJLU6oIea29yk",
      "include_colab_link": true
    },
    "kernelspec": {
      "name": "python3",
      "display_name": "Python 3"
    }
  },
  "cells": [
    {
      "cell_type": "markdown",
      "metadata": {
        "id": "view-in-github",
        "colab_type": "text"
      },
      "source": [
        "<a href=\"https://colab.research.google.com/github/M-Crowson/2020EssexChallengeWeekGroup5/blob/Country-analysis/Copy_of_WebScrapingMachine.ipynb\" target=\"_parent\"><img src=\"https://colab.research.google.com/assets/colab-badge.svg\" alt=\"Open In Colab\"/></a>"
      ]
    },
    {
      "cell_type": "code",
      "metadata": {
        "id": "y0QeIvtYjxoW"
      },
      "source": [
        ""
      ],
      "execution_count": null,
      "outputs": []
    },
    {
      "cell_type": "code",
      "metadata": {
        "id": "sF2mRiOZa1Ms",
        "outputId": "88fd69f1-feb1-46ca-a481-b0a4e43887d9",
        "colab": {
          "base_uri": "https://localhost:8080/",
          "height": 193
        }
      },
      "source": [
        "# Install Tweepy\n",
        "!pip install tweepy"
      ],
      "execution_count": null,
      "outputs": [
        {
          "output_type": "stream",
          "text": [
            "Requirement already satisfied: tweepy in /usr/local/lib/python3.6/dist-packages (3.6.0)\n",
            "Requirement already satisfied: requests-oauthlib>=0.7.0 in /usr/local/lib/python3.6/dist-packages (from tweepy) (1.3.0)\n",
            "Requirement already satisfied: six>=1.10.0 in /usr/local/lib/python3.6/dist-packages (from tweepy) (1.15.0)\n",
            "Requirement already satisfied: PySocks>=1.5.7 in /usr/local/lib/python3.6/dist-packages (from tweepy) (1.7.1)\n",
            "Requirement already satisfied: requests>=2.11.1 in /usr/local/lib/python3.6/dist-packages (from tweepy) (2.23.0)\n",
            "Requirement already satisfied: oauthlib>=3.0.0 in /usr/local/lib/python3.6/dist-packages (from requests-oauthlib>=0.7.0->tweepy) (3.1.0)\n",
            "Requirement already satisfied: idna<3,>=2.5 in /usr/local/lib/python3.6/dist-packages (from requests>=2.11.1->tweepy) (2.10)\n",
            "Requirement already satisfied: chardet<4,>=3.0.2 in /usr/local/lib/python3.6/dist-packages (from requests>=2.11.1->tweepy) (3.0.4)\n",
            "Requirement already satisfied: certifi>=2017.4.17 in /usr/local/lib/python3.6/dist-packages (from requests>=2.11.1->tweepy) (2020.6.20)\n",
            "Requirement already satisfied: urllib3!=1.25.0,!=1.25.1,<1.26,>=1.21.1 in /usr/local/lib/python3.6/dist-packages (from requests>=2.11.1->tweepy) (1.24.3)\n"
          ],
          "name": "stdout"
        }
      ]
    },
    {
      "cell_type": "code",
      "metadata": {
        "id": "1SUYzekVOLfS"
      },
      "source": [
        "\n"
      ],
      "execution_count": null,
      "outputs": []
    },
    {
      "cell_type": "code",
      "metadata": {
        "id": "MBSMP6OHbDo9"
      },
      "source": [
        "import re\n",
        "import tweepy\n",
        "from tweepy import OAuthHandler\n",
        "consumer_api_key = 'nCSS9AOFEtjC6z3hSrfdgh760'\n",
        "consumer_api_secret = 'zj6ELUiIIycKmSEx6jzUgNIYBGLPk7uLnF241rGzmHvcgHQJ9H' \n",
        "access_token = '1315955315314167808-3rEY0WXk5XasWU1AgCEX6Ahbkjonzs'\n",
        "access_token_secret ='rSc7JXXHqwbbqAHOp3qHUwSYpLC8ViXybnnCXs3M4DNWI'"
      ],
      "execution_count": null,
      "outputs": []
    },
    {
      "cell_type": "code",
      "metadata": {
        "id": "3DXzCMJPbUSe"
      },
      "source": [
        "authorizer = OAuthHandler(consumer_api_key, consumer_api_secret)\n",
        "authorizer.set_access_token(access_token, access_token_secret)"
      ],
      "execution_count": null,
      "outputs": []
    },
    {
      "cell_type": "code",
      "metadata": {
        "id": "PCvHKeQsbfvp",
        "outputId": "f94b79f7-edf7-4311-b681-b999efec8d79",
        "colab": {
          "base_uri": "https://localhost:8080/",
          "height": 1000
        }
      },
      "source": [
        "api = tweepy.API(authorizer ,timeout=15)\n",
        "all_tweets = []\n",
        "search_query = '#AppleEvent'\n",
        "\n",
        "for tweet_object in tweepy.Cursor(api.search,q=search_query+\" -filter:retweets\",lang='en',result_type='mixed', until='2020-10-14').items(1000):\n",
        "    #filter out tweets that don't have a place attached to them \n",
        "    if tweet_object.place != None:\n",
        "      all_tweets.append({\"text\": tweet_object.text, \"country\": tweet_object.place.country, \"country_code\" : tweet_object.place.country_code, \"sentiment\": \"\"})\n",
        "      print(\"Text: \" + tweet_object.text)\n",
        "      print(\"Country: \" + str(tweet_object.place.country))\n",
        "      print(\"Country Code: \" + str(tweet_object.place.country_code))\n",
        "      print(\"--------------------------------------------------------------------------------\")\n"
      ],
      "execution_count": null,
      "outputs": [
        {
          "output_type": "stream",
          "text": [
            "Text: LOL reading up on the #AppleEvent from @WIRED’s @snackfight and this was the only thing that I took away 😂😂😂 https://t.co/19mur8wt2G\n",
            "Country: United States\n",
            "Country Code: US\n",
            "--------------------------------------------------------------------------------\n",
            "Text: iPhone day and Oculus Quest 2 arrives today?? Yes please! #AppleEvent\n",
            "Country: United States\n",
            "Country Code: US\n",
            "--------------------------------------------------------------------------------\n",
            "Text: Few hours till the #AppleEvent 🙂\n",
            "Country: United States\n",
            "Country Code: US\n",
            "--------------------------------------------------------------------------------\n",
            "Text: Like ♥️\n",
            " #AppleEvent\n",
            "Country: Kingdom of Saudi Arabia\n",
            "Country Code: SA\n",
            "--------------------------------------------------------------------------------\n",
            "Text: Samsung and other competitors waiting for release of iPhone 12 🍎 \n",
            "\n",
            "#AppleEvent #iPhone12 @Apple\n",
            "Country: United Arab Emirates\n",
            "Country Code: AE\n",
            "--------------------------------------------------------------------------------\n",
            "Text: Hello @tim_cook kindly help me with iphone 12 pro max. \n",
            "Thank You\n",
            " #AppleEvent\n",
            "Country: Ghana\n",
            "Country Code: GH\n",
            "--------------------------------------------------------------------------------\n",
            "Text: Looks very promising @ItsBobbyRevilla👇🏽#iPhone12 #Apple #AppleEvent  https://t.co/t8d1VRDA44\n",
            "Country: United Kingdom\n",
            "Country Code: GB\n",
            "--------------------------------------------------------------------------------\n",
            "Text: Let's go 🙌\n",
            "#AppleEvent\n",
            "Country: India\n",
            "Country Code: IN\n",
            "--------------------------------------------------------------------------------\n",
            "Text: Exciting \n",
            "📱📱📱 #AppleEvent\n",
            "Country: Pakistan\n",
            "Country Code: PK\n",
            "--------------------------------------------------------------------------------\n",
            "Text: This is so cool 🤩\n",
            "Tap the ❤️ button to see the animation  #AppleEvent  @Apple #iPhone12 https://t.co/2JE2q6mj57\n",
            "Country: India\n",
            "Country Code: IN\n",
            "--------------------------------------------------------------------------------\n",
            "Text: Can’t wait to see what goodies Apple  releases today at the #AppleEvent — I’m so hype 🤩 https://t.co/tT51w8KxKQ\n",
            "Country: United States\n",
            "Country Code: US\n",
            "--------------------------------------------------------------------------------\n",
            "Text: Wow I can’t believe how many new leaks have come out so close to the event #AppleEvent https://t.co/CTJuhYHODz\n",
            "Country: United States\n",
            "Country Code: US\n",
            "--------------------------------------------------------------------------------\n",
            "Text: Please select a payment type for Iphone 12 Pro Max👇🏻😵 #AppleEvent https://t.co/egiHXXxXeB\n",
            "Country: Turkey\n",
            "Country Code: TR\n",
            "--------------------------------------------------------------------------------\n",
            "Text: It's about three hours to go but I just can't keep my eyes wide open anymore 😴 #AppleEvent https://t.co/EpEPhDoxKR\n",
            "Country: Indonesia\n",
            "Country Code: ID\n",
            "--------------------------------------------------------------------------------\n",
            "Text: Every time a new iPhone come out y’all crack the same dead dried up recycled jokes. You’re still too broke to get t… https://t.co/Mz6FXXIlR2\n",
            "Country: Canada\n",
            "Country Code: CA\n",
            "--------------------------------------------------------------------------------\n",
            "Text: #iPhone day is always one of the best days of the year. Regardless if I end up buying one or not. #AppleEvent\n",
            "Country: United States\n",
            "Country Code: US\n",
            "--------------------------------------------------------------------------------\n",
            "Text: The animation that plays when you like a tweet like this with the #AppleEvent  is very nice, everything involving A… https://t.co/gO0G8GllgF\n",
            "Country: United States\n",
            "Country Code: US\n",
            "--------------------------------------------------------------------------------\n",
            "Text: #AppleEvent waiting🔥🔥\n",
            "Country: Kuwait\n",
            "Country Code: KW\n",
            "--------------------------------------------------------------------------------\n",
            "Text: Waiting 👀...\n",
            "\n",
            " #AppleEvent\n",
            "Country: United Arab Emirates\n",
            "Country Code: AE\n",
            "--------------------------------------------------------------------------------\n",
            "Text: #AppleEvent tap the like button 😼\n",
            "Country: United States\n",
            "Country Code: US\n",
            "--------------------------------------------------------------------------------\n",
            "Text: #AppleEvent\n",
            "Why is it that with almost every new iPhone device there's barely a new look?🤔\n",
            "Country: South Africa\n",
            "Country Code: ZA\n",
            "--------------------------------------------------------------------------------\n",
            "Text: I’m at school and I’m missing the #AppleEvent\n",
            "Country: United States\n",
            "Country Code: US\n",
            "--------------------------------------------------------------------------------\n",
            "Text: @Apple has an event at Apple Park tonight 10:30pm\n",
            "iPhone 12 series launching tonight...\n",
            "Stay tuned\n",
            "#AppleEvent #Apple #iPhone12 #iPhone\n",
            "Country: India\n",
            "Country Code: IN\n",
            "--------------------------------------------------------------------------------\n",
            "Text: Almost #AppleEvent\n",
            "Country: United States\n",
            "Country Code: US\n",
            "--------------------------------------------------------------------------------\n",
            "Text: T-shirts in stock\n",
            "Ghc 30 \n",
            "Available in wrappers\n",
            "Nationwide delivery \n",
            "https://t.co/ak1wCktqIj\n",
            "I appreciate your retw… https://t.co/Vcmn0h5Ug8\n",
            "Country: Ghana\n",
            "Country Code: GH\n",
            "--------------------------------------------------------------------------------\n",
            "Text: A new way to LIKE the #Apple.\n",
            "TOUCH the LIKE button and see the new animation.\n",
            "#AppleEvent #iPhone12 https://t.co/wMMv2fkY6I\n",
            "Country: Pakistan\n",
            "Country Code: PK\n",
            "--------------------------------------------------------------------------------\n",
            "Text: Time to? #AppleEvent https://t.co/Mgzz4DTSl8\n",
            "Country: India\n",
            "Country Code: IN\n",
            "--------------------------------------------------------------------------------\n",
            "Text: HIT THAT LIKE TOO SEE WHAT HAPPENS 👀 #AppleEvent https://t.co/hSczZQLtMn\n",
            "Country: United States\n",
            "Country Code: US\n",
            "--------------------------------------------------------------------------------\n",
            "Text: See what happens when you ❤️ this tweet.\n",
            "\n",
            "#AppleEvent https://t.co/k9HJtpYaEa\n",
            "Country: Sri Lanka\n",
            "Country Code: LK\n",
            "--------------------------------------------------------------------------------\n",
            "Text: Can leakers take a chill pill at least now? #AppleEvent\n",
            "Country: India\n",
            "Country Code: IN\n",
            "--------------------------------------------------------------------------------\n",
            "Text: Waiting for #AppleEvent can’t wait ya 😱 3 hours to go 📱\n",
            "Country: Malaysia\n",
            "Country Code: MY\n",
            "--------------------------------------------------------------------------------\n",
            "Text: Link to the leak: https://t.co/7VqaYbJly6\n",
            "\n",
            "Fun fact: like my video tweet and see the magic! Special animation for t… https://t.co/sWewNrIlIs\n",
            "Country: United Kingdom\n",
            "Country Code: GB\n",
            "--------------------------------------------------------------------------------\n",
            "Text: Hi\n",
            "I will watch you tonight\n",
            "at 10:30 PM (ist)\n",
            "\n",
            "I LOVE YOU #AppleEvent\n",
            "Country: India\n",
            "Country Code: IN\n",
            "--------------------------------------------------------------------------------\n",
            "Text: @dialoglk at the same time we tweeted same post 😂😂 let's like and see magic #AppleEvent\n",
            "Country: Sri Lanka\n",
            "Country Code: LK\n",
            "--------------------------------------------------------------------------------\n",
            "Text: hey lankan tweeps' get ready for october #AppleEvent. Give one heart to this tweet and see the magic\n",
            "Country: Sri Lanka\n",
            "Country Code: LK\n",
            "--------------------------------------------------------------------------------\n"
          ],
          "name": "stdout"
        }
      ]
    },
    {
      "cell_type": "code",
      "metadata": {
        "id": "ovmgZsegcr4Z",
        "outputId": "a7ae4227-755d-4e97-d53f-faeb3836b8c9",
        "colab": {
          "base_uri": "https://localhost:8080/",
          "height": 54
        }
      },
      "source": [
        "print(all_tweets)"
      ],
      "execution_count": null,
      "outputs": [
        {
          "output_type": "stream",
          "text": [
            "[{'text': 'LOL reading up on the #AppleEvent from @WIRED’s @snackfight and this was the only thing that I took away 😂😂😂 https://t.co/19mur8wt2G', 'country': 'United States', 'country_code': 'US', 'sentiment': ''}, {'text': 'iPhone day and Oculus Quest 2 arrives today?? Yes please! #AppleEvent', 'country': 'United States', 'country_code': 'US', 'sentiment': ''}, {'text': 'Few hours till the #AppleEvent 🙂', 'country': 'United States', 'country_code': 'US', 'sentiment': ''}, {'text': 'Like ♥️\\n #AppleEvent', 'country': 'Kingdom of Saudi Arabia', 'country_code': 'SA', 'sentiment': ''}, {'text': 'Samsung and other competitors waiting for release of iPhone 12 🍎 \\n\\n#AppleEvent #iPhone12 @Apple', 'country': 'United Arab Emirates', 'country_code': 'AE', 'sentiment': ''}, {'text': 'Hello @tim_cook kindly help me with iphone 12 pro max. \\nThank You\\n #AppleEvent', 'country': 'Ghana', 'country_code': 'GH', 'sentiment': ''}, {'text': 'Looks very promising @ItsBobbyRevilla👇🏽#iPhone12 #Apple #AppleEvent  https://t.co/t8d1VRDA44', 'country': 'United Kingdom', 'country_code': 'GB', 'sentiment': ''}, {'text': \"Let's go 🙌\\n#AppleEvent\", 'country': 'India', 'country_code': 'IN', 'sentiment': ''}, {'text': 'Exciting \\n📱📱📱 #AppleEvent', 'country': 'Pakistan', 'country_code': 'PK', 'sentiment': ''}, {'text': 'This is so cool \\U0001f929\\nTap the ❤️ button to see the animation  #AppleEvent\\xa0 @Apple #iPhone12 https://t.co/2JE2q6mj57', 'country': 'India', 'country_code': 'IN', 'sentiment': ''}, {'text': 'Can’t wait to see what goodies Apple \\uf8ff releases today at the #AppleEvent — I’m so hype \\U0001f929 https://t.co/tT51w8KxKQ', 'country': 'United States', 'country_code': 'US', 'sentiment': ''}, {'text': 'Wow I can’t believe how many new leaks have come out so close to the event #AppleEvent https://t.co/CTJuhYHODz', 'country': 'United States', 'country_code': 'US', 'sentiment': ''}, {'text': 'Please select a payment type for Iphone 12 Pro Max👇🏻😵 #AppleEvent https://t.co/egiHXXxXeB', 'country': 'Turkey', 'country_code': 'TR', 'sentiment': ''}, {'text': \"It's about three hours to go but I just can't keep my eyes wide open anymore 😴 #AppleEvent https://t.co/EpEPhDoxKR\", 'country': 'Indonesia', 'country_code': 'ID', 'sentiment': ''}, {'text': 'Every time a new iPhone come out y’all crack the same dead dried up recycled jokes. You’re still too broke to get t… https://t.co/Mz6FXXIlR2', 'country': 'Canada', 'country_code': 'CA', 'sentiment': ''}, {'text': '#iPhone day is always one of the best days of the year. Regardless if I end up buying one or not. #AppleEvent', 'country': 'United States', 'country_code': 'US', 'sentiment': ''}, {'text': 'The animation that plays when you like a tweet like this with the #AppleEvent\\xa0 is very nice, everything involving A… https://t.co/gO0G8GllgF', 'country': 'United States', 'country_code': 'US', 'sentiment': ''}, {'text': '#AppleEvent waiting🔥🔥', 'country': 'Kuwait', 'country_code': 'KW', 'sentiment': ''}, {'text': 'Waiting 👀...\\n\\n #AppleEvent', 'country': 'United Arab Emirates', 'country_code': 'AE', 'sentiment': ''}, {'text': '#AppleEvent tap the like button 😼', 'country': 'United States', 'country_code': 'US', 'sentiment': ''}, {'text': \"#AppleEvent\\nWhy is it that with almost every new iPhone device there's barely a new look?🤔\", 'country': 'South Africa', 'country_code': 'ZA', 'sentiment': ''}, {'text': 'I’m at school and I’m missing the #AppleEvent', 'country': 'United States', 'country_code': 'US', 'sentiment': ''}, {'text': '@Apple has an event at Apple Park tonight 10:30pm\\niPhone 12 series launching tonight...\\nStay tuned\\n#AppleEvent #Apple #iPhone12 #iPhone', 'country': 'India', 'country_code': 'IN', 'sentiment': ''}, {'text': 'Almost #AppleEvent', 'country': 'United States', 'country_code': 'US', 'sentiment': ''}, {'text': 'T-shirts in stock\\nGhc 30 \\nAvailable in wrappers\\nNationwide delivery \\nhttps://t.co/ak1wCktqIj\\nI appreciate your retw… https://t.co/Vcmn0h5Ug8', 'country': 'Ghana', 'country_code': 'GH', 'sentiment': ''}, {'text': 'A new way to LIKE the #Apple.\\nTOUCH the LIKE button and see the new animation.\\n#AppleEvent\\xa0#iPhone12 https://t.co/wMMv2fkY6I', 'country': 'Pakistan', 'country_code': 'PK', 'sentiment': ''}, {'text': 'Time to? #AppleEvent https://t.co/Mgzz4DTSl8', 'country': 'India', 'country_code': 'IN', 'sentiment': ''}, {'text': 'HIT THAT LIKE TOO SEE WHAT HAPPENS 👀 #AppleEvent https://t.co/hSczZQLtMn', 'country': 'United States', 'country_code': 'US', 'sentiment': ''}, {'text': 'See what happens when you ❤️ this tweet.\\n\\n#AppleEvent https://t.co/k9HJtpYaEa', 'country': 'Sri Lanka', 'country_code': 'LK', 'sentiment': ''}, {'text': 'Can leakers take a chill pill at least now? #AppleEvent', 'country': 'India', 'country_code': 'IN', 'sentiment': ''}, {'text': 'Waiting for #AppleEvent can’t wait ya 😱 3 hours to go 📱', 'country': 'Malaysia', 'country_code': 'MY', 'sentiment': ''}, {'text': 'Link to the leak: https://t.co/7VqaYbJly6\\n\\nFun fact: like my video tweet and see the magic! Special animation for t… https://t.co/sWewNrIlIs', 'country': 'United Kingdom', 'country_code': 'GB', 'sentiment': ''}, {'text': 'Hi\\nI will watch you tonight\\nat 10:30 PM (ist)\\n\\nI LOVE YOU #AppleEvent', 'country': 'India', 'country_code': 'IN', 'sentiment': ''}, {'text': \"@dialoglk at the same time we tweeted same post 😂😂 let's like and see magic #AppleEvent\", 'country': 'Sri Lanka', 'country_code': 'LK', 'sentiment': ''}, {'text': \"hey lankan tweeps' get ready for october #AppleEvent. Give one heart to this tweet and see the magic\", 'country': 'Sri Lanka', 'country_code': 'LK', 'sentiment': ''}]\n"
          ],
          "name": "stdout"
        }
      ]
    },
    {
      "cell_type": "code",
      "metadata": {
        "id": "03M6gOZzc7rb",
        "outputId": "e7dfffbe-6131-43e0-a400-159e1b610d8f",
        "colab": {
          "base_uri": "https://localhost:8080/",
          "height": 52
        }
      },
      "source": [
        "import numpy as np \n",
        "import pandas as pd \n",
        "import re  \n",
        "import nltk # an amazing library to play with natural language\n",
        "nltk.download('stopwords')  \n",
        "from nltk.corpus import stopwords \n"
      ],
      "execution_count": null,
      "outputs": [
        {
          "output_type": "stream",
          "text": [
            "[nltk_data] Downloading package stopwords to /root/nltk_data...\n",
            "[nltk_data]   Package stopwords is already up-to-date!\n"
          ],
          "name": "stdout"
        }
      ]
    },
    {
      "cell_type": "code",
      "metadata": {
        "id": "LIIrJYhVdD9y",
        "outputId": "abd25fb7-672d-4c90-e6f1-724d08d2b704",
        "colab": {
          "base_uri": "https://localhost:8080/",
          "height": 263
        }
      },
      "source": [
        "tweets = pd.read_csv(\"https://raw.githubusercontent.com/kolaveridi/kaggle-Twitter-US-Airline-Sentiment-/master/Tweets.csv\")\n",
        "print(tweets)"
      ],
      "execution_count": null,
      "outputs": [
        {
          "output_type": "stream",
          "text": [
            "                 tweet_id  ...               user_timezone\n",
            "0      570306133677760513  ...  Eastern Time (US & Canada)\n",
            "1      570301130888122368  ...  Pacific Time (US & Canada)\n",
            "2      570301083672813571  ...  Central Time (US & Canada)\n",
            "3      570301031407624196  ...  Pacific Time (US & Canada)\n",
            "4      570300817074462722  ...  Pacific Time (US & Canada)\n",
            "...                   ...  ...                         ...\n",
            "14635  569587686496825344  ...                         NaN\n",
            "14636  569587371693355008  ...                         NaN\n",
            "14637  569587242672398336  ...                         NaN\n",
            "14638  569587188687634433  ...  Eastern Time (US & Canada)\n",
            "14639  569587140490866689  ...                         NaN\n",
            "\n",
            "[14640 rows x 15 columns]\n"
          ],
          "name": "stdout"
        }
      ]
    },
    {
      "cell_type": "code",
      "metadata": {
        "id": "yUFttnmRdTol",
        "outputId": "06d48d24-9ce1-47df-fafb-72752af750c7",
        "colab": {
          "base_uri": "https://localhost:8080/",
          "height": 122
        }
      },
      "source": [
        "X = tweets.iloc[:, 10].values  \n",
        "y = tweets.iloc[:, 1].values\n",
        "\n",
        "print(X)"
      ],
      "execution_count": null,
      "outputs": [
        {
          "output_type": "stream",
          "text": [
            "['@VirginAmerica What @dhepburn said.'\n",
            " \"@VirginAmerica plus you've added commercials to the experience... tacky.\"\n",
            " \"@VirginAmerica I didn't today... Must mean I need to take another trip!\"\n",
            " ... '@AmericanAir Please bring American Airlines to #BlackBerry10'\n",
            " \"@AmericanAir you have my money, you change my flight, and don't answer your phones! Any other suggestions so I can make my commitment??\"\n",
            " '@AmericanAir we have 8 ppl so we need 2 know how many seats are on the next flight. Plz put us on standby for 4 people on the next flight?']\n"
          ],
          "name": "stdout"
        }
      ]
    },
    {
      "cell_type": "code",
      "metadata": {
        "id": "pUIKxAX0pPnD"
      },
      "source": [
        "#Function for removing web links beggining with a particular character\n",
        "def remove_words_starting_with(link_text, starting_text):\n",
        "    while starting_text in link_text: \n",
        "        word_start = link_text.find(starting_text)\n",
        "        if link_text.find(' ', word_start + 1) >=0:  \n",
        "            word_end = link_text.find(' ', word_start + 1)\n",
        "        else:\n",
        "            word_end = len(link_text) + 1\n",
        "        link_text = link_text[0:word_start] + link_text[word_end:]\n",
        "    return link_text\n",
        "\n",
        "#Function for cleaning text\n",
        "def clean_text(text_in):\n",
        "\n",
        "  #remove web links\n",
        "  processed_tweet = remove_words_starting_with(text_in, \"http\")\n",
        "\n",
        "  #remove user links\n",
        "  processed_tweet = remove_words_starting_with(processed_tweet, \"@\")\n",
        "      \n",
        "  # Remove all the special characters\n",
        "  processed_tweet = re.sub(r'\\W', ' ', processed_tweet)\n",
        "\n",
        "  # remove all single characters\n",
        "  processed_tweet = re.sub(r'\\s+[a-zA-Z]\\s+', ' ', processed_tweet)\n",
        "\n",
        "  # Remove single characters from the start\n",
        "  processed_tweet = re.sub(r'\\^[a-zA-Z]\\s+', ' ', processed_tweet) \n",
        "\n",
        "  # Substituting multiple spaces with single space\n",
        "  processed_tweet= re.sub(r'\\s+', ' ', processed_tweet, flags=re.I)\n",
        "\n",
        "  # Removing prefixed 'b'\n",
        "  processed_tweet = re.sub(r'^b\\s+', '', processed_tweet)\n",
        "\n",
        "  # Converting to Lowercase\n",
        "  processed_tweet = processed_tweet.lower()\n",
        "\n",
        "  return processed_tweet\n"
      ],
      "execution_count": null,
      "outputs": []
    },
    {
      "cell_type": "code",
      "metadata": {
        "id": "wCbe6x3cqOAR"
      },
      "source": [
        "processed_tweets = []\n",
        "\n",
        "for tweet in range(0, len(X)):  \n",
        "    tweet = clean_text(str(X[tweet]))\n",
        "    processed_tweets.append(tweet)"
      ],
      "execution_count": null,
      "outputs": []
    },
    {
      "cell_type": "code",
      "metadata": {
        "id": "fvvzPXC7daw9"
      },
      "source": [
        "from sklearn.feature_extraction.text import TfidfVectorizer  \n",
        "tfidfconverter = TfidfVectorizer(max_features=2000, min_df=5, max_df=0.7, stop_words=stopwords.words('english'))  \n",
        "X = tfidfconverter.fit_transform(processed_tweets).toarray()\n"
      ],
      "execution_count": null,
      "outputs": []
    },
    {
      "cell_type": "code",
      "metadata": {
        "id": "_yReZpg4dftB",
        "outputId": "f6ea5be1-e976-44cf-fbc6-7257c0e5dfff",
        "colab": {
          "base_uri": "https://localhost:8080/",
          "height": 158
        }
      },
      "source": [
        "from sklearn.ensemble import RandomForestClassifier\n",
        "text_classifier = RandomForestClassifier(n_estimators=100, random_state=0)  \n",
        "text_classifier.fit(X, y)"
      ],
      "execution_count": null,
      "outputs": [
        {
          "output_type": "execute_result",
          "data": {
            "text/plain": [
              "RandomForestClassifier(bootstrap=True, ccp_alpha=0.0, class_weight=None,\n",
              "                       criterion='gini', max_depth=None, max_features='auto',\n",
              "                       max_leaf_nodes=None, max_samples=None,\n",
              "                       min_impurity_decrease=0.0, min_impurity_split=None,\n",
              "                       min_samples_leaf=1, min_samples_split=2,\n",
              "                       min_weight_fraction_leaf=0.0, n_estimators=100,\n",
              "                       n_jobs=None, oob_score=False, random_state=0, verbose=0,\n",
              "                       warm_start=False)"
            ]
          },
          "metadata": {
            "tags": []
          },
          "execution_count": 13
        }
      ]
    },
    {
      "cell_type": "code",
      "metadata": {
        "id": "Wq2aMR7AaWIP"
      },
      "source": [
        "import seaborn\n",
        "import matplotlib.pyplot as plt\n",
        "\n",
        "\n",
        "# converts sentiment value from positive, neutral and negative into an integer value\n",
        "# positive = 1, neutral=0, negative = -1\n",
        "def sentiment_as_number(sentiment_as_word):\n",
        "  if sentiment_as_word == 'positive':\n",
        "    return 1\n",
        "  elif sentiment_as_word == 'neutral':\n",
        "    return 0\n",
        "  elif sentiment_as_word == 'negative':\n",
        "    return -1\n",
        "  else:\n",
        "    return \"unidentified\"\n",
        "\n",
        "# Takes in a list of dictionaries, where each dictionary represents a tweet. Each dictionary in list should have \"text\", \"country\" and \"sentiment\" values.\n",
        "# returns a list of dictionaries, where each dictionary represents a country, the number of tweets from that country and the net sentiment value. \n",
        "def calculate_country_data(full_tweet_list):\n",
        "  country_data = [] \n",
        "  for tweet in full_tweet_list:\n",
        "    text = tweet.get(\"text\")\n",
        "    country = tweet.get(\"country\")\n",
        "    sentiment = tweet.get(\"sentiment\")\n",
        "    sentiment_number = sentiment_as_number(sentiment)\n",
        "\n",
        "    if len(country_data) == 0:\n",
        "      country_data.append({\"country\": country, \"number of tweets\": 1, \"net sentiment\": sentiment_number})\n",
        "    else:\n",
        "      if  not any(country_dict['country'] == country for country_dict in country_data):\n",
        "        country_data.append({\"country\": country, \"number of tweets\": 1, \"net sentiment\": sentiment_number})\n",
        "      else: \n",
        "        for country_dict in country_data:\n",
        "          if country_dict['country'] == country: \n",
        "            num_of_tweets = country_dict.get(\"number of tweets\") + 1\n",
        "            country_dict.update({\"number of tweets\": num_of_tweets})\n",
        "            net_sent = country_dict.get(\"net sentiment\") + sentiment_number\n",
        "            country_dict.update({\"net sentiment\": net_sent})\n",
        "        \n",
        "  return country_data    \n",
        "\n",
        "\n",
        "# creates pie chart from country_dataset where slice size = number of tweets and shade of slice = net sentiment\n",
        "def pie_from_dataset(dataset):\n",
        "  # variables for pie chart\n",
        "  labels = []\n",
        "  sizes= []\n",
        "  color_values= []\n",
        "  explode_values = []\n",
        "\n",
        "  #sort dataset by net sentiment (lowest to highest)\n",
        "  sorted_dataset = sorted(dataset, key= lambda i: i['net sentiment'])\n",
        "  \n",
        "\n",
        "  #create colour palette and assing color value to each country based on net sentiment\n",
        "  lowest_net_sentiment = min(sorted_dataset, key= lambda i:i.get('net sentiment'))\n",
        "  lowest_net_sentiment = lowest_net_sentiment.get(\"net sentiment\")\n",
        "  highest_net_sentiment = max(sorted_dataset, key= lambda i:i.get('net sentiment'))\n",
        "  highest_net_sentiment = highest_net_sentiment.get(\"net sentiment\")\n",
        "  if abs(lowest_net_sentiment) > (highest_net_sentiment):\n",
        "    index_shift = abs(lowest_net_sentiment)\n",
        "    number_of_colours = abs(lowest_net_sentiment)*2\n",
        "    if number_of_colours % 2 == 0: \n",
        "      number_of_colours = number_of_colours + 1\n",
        "  else: \n",
        "    index_shift = abs(highest_net_sentiment)\n",
        "    number_of_colours = abs(highest_net_sentiment)*2\n",
        "    if number_of_colours % 2 == 0:\n",
        "      number_of_colours = number_of_colours + 1\n",
        "  \n",
        "  for country in sorted_dataset:\n",
        "    net_sentiment = country.get(\"net sentiment\")\n",
        "    country.update({\"color_index\":(net_sentiment + index_shift)})\n",
        "\n",
        "  color_palette = seaborn.color_palette(\"RdYlGn\", number_of_colours)\n",
        "  \n",
        "\n",
        "  #create lists for pie chart parameters\n",
        "  for country in sorted_dataset: \n",
        "    labels.append(country.get(\"country\"))\n",
        "    sizes.append(country.get(\"number of tweets\"))\n",
        "    color_value = color_palette[country.get(\"color_index\")]\n",
        "    color_values.append(color_value)\n",
        "    explode_values.append(0.5)\n",
        "\n",
        "  return plt.pie(sizes, labels=labels, colors=color_values, labeldistance=1.1, explode=explode_values, startangle=100, rotatelabels=True)\n",
        "\n",
        "\n"
      ],
      "execution_count": null,
      "outputs": []
    },
    {
      "cell_type": "code",
      "metadata": {
        "id": "PiH3lhymdsYI",
        "outputId": "319fa211-9da2-40e7-c7f0-30dad14ae3af",
        "colab": {
          "base_uri": "https://localhost:8080/",
          "height": 539
        }
      },
      "source": [
        "for tweet in all_tweets:\n",
        "    tweet_text = clean_text(tweet.get(\"text\"))\n",
        "    sentiment = text_classifier.predict(tfidfconverter.transform([tweet_text]).toarray())\n",
        "    sentiment = sentiment[0]\n",
        "    tweet.update({\"text\":tweet_text})\n",
        "    tweet.update({\"sentiment\":sentiment})\n",
        "  \n",
        "\n",
        "total_tweets = len(all_tweets)\n",
        "\n",
        "print(all_tweets)\n",
        "print(\"Total tweets: \" + str(total_tweets))\n",
        "\n",
        "country_dataset = calculate_country_data(all_tweets)\n",
        "print(country_dataset)\n",
        "\n",
        "pie_chart = pie_from_dataset(country_dataset)\n",
        "\n",
        "\n"
      ],
      "execution_count": null,
      "outputs": [
        {
          "output_type": "stream",
          "text": [
            "[{'text': 'lol reading up on the appleevent from and this was the only thing that took away ', 'country': 'United States', 'country_code': 'US', 'sentiment': 'negative'}, {'text': 'iphone day and oculus quest 2 arrives today yes please appleevent', 'country': 'United States', 'country_code': 'US', 'sentiment': 'negative'}, {'text': 'few hours till the appleevent ', 'country': 'United States', 'country_code': 'US', 'sentiment': 'negative'}, {'text': 'like appleevent', 'country': 'Kingdom of Saudi Arabia', 'country_code': 'SA', 'sentiment': 'neutral'}, {'text': 'samsung and other competitors waiting for release of iphone 12 appleevent iphone12 ', 'country': 'United Arab Emirates', 'country_code': 'AE', 'sentiment': 'negative'}, {'text': 'hello kindly help me with iphone 12 pro max thank you appleevent', 'country': 'Ghana', 'country_code': 'GH', 'sentiment': 'positive'}, {'text': 'looks very promising apple appleevent ', 'country': 'United Kingdom', 'country_code': 'GB', 'sentiment': 'neutral'}, {'text': 'let go appleevent', 'country': 'India', 'country_code': 'IN', 'sentiment': 'neutral'}, {'text': 'exciting appleevent', 'country': 'Pakistan', 'country_code': 'PK', 'sentiment': 'neutral'}, {'text': 'this is so cool tap the button to see the animation appleevent iphone12 ', 'country': 'India', 'country_code': 'IN', 'sentiment': 'positive'}, {'text': 'can wait to see what goodies apple releases today at the appleevent so hype ', 'country': 'United States', 'country_code': 'US', 'sentiment': 'negative'}, {'text': 'wow can believe how many new leaks have come out so close to the event appleevent ', 'country': 'United States', 'country_code': 'US', 'sentiment': 'neutral'}, {'text': 'please select payment type for iphone 12 pro max appleevent ', 'country': 'Turkey', 'country_code': 'TR', 'sentiment': 'neutral'}, {'text': 'it about three hours to go but just can keep my eyes wide open anymore appleevent ', 'country': 'Indonesia', 'country_code': 'ID', 'sentiment': 'negative'}, {'text': 'every time new iphone come out all crack the same dead dried up recycled jokes you re still too broke to get ', 'country': 'Canada', 'country_code': 'CA', 'sentiment': 'negative'}, {'text': ' iphone day is always one of the best days of the year regardless if end up buying one or not appleevent', 'country': 'United States', 'country_code': 'US', 'sentiment': 'negative'}, {'text': 'the animation that plays when you like tweet like this with the appleevent is very nice everything involving ', 'country': 'United States', 'country_code': 'US', 'sentiment': 'neutral'}, {'text': ' appleevent waiting ', 'country': 'Kuwait', 'country_code': 'KW', 'sentiment': 'negative'}, {'text': 'waiting appleevent', 'country': 'United Arab Emirates', 'country_code': 'AE', 'sentiment': 'negative'}, {'text': ' appleevent tap the like button ', 'country': 'United States', 'country_code': 'US', 'sentiment': 'neutral'}, {'text': ' appleevent why is it that with almost every new iphone device there barely new look ', 'country': 'South Africa', 'country_code': 'ZA', 'sentiment': 'neutral'}, {'text': 'i at school and missing the appleevent', 'country': 'United States', 'country_code': 'US', 'sentiment': 'negative'}, {'text': ' has an event at apple park tonight 10 30pm iphone 12 series launching tonight stay tuned appleevent apple iphone12 iphone', 'country': 'India', 'country_code': 'IN', 'sentiment': 'neutral'}, {'text': 'almost appleevent', 'country': 'United States', 'country_code': 'US', 'sentiment': 'neutral'}, {'text': 't shirts in stock ghc 30 available in wrappers nationwide delivery appreciate your retw ', 'country': 'Ghana', 'country_code': 'GH', 'sentiment': 'positive'}, {'text': 'a new way to like the apple touch the like button and see the new animation appleevent iphone12 ', 'country': 'Pakistan', 'country_code': 'PK', 'sentiment': 'neutral'}, {'text': 'time to appleevent ', 'country': 'India', 'country_code': 'IN', 'sentiment': 'negative'}, {'text': 'hit that like too see what happens appleevent ', 'country': 'United States', 'country_code': 'US', 'sentiment': 'neutral'}, {'text': 'see what happens when you this tweet appleevent ', 'country': 'Sri Lanka', 'country_code': 'LK', 'sentiment': 'negative'}, {'text': 'can leakers take chill pill at least now appleevent', 'country': 'India', 'country_code': 'IN', 'sentiment': 'neutral'}, {'text': 'waiting for appleevent can wait ya 3 hours to go ', 'country': 'Malaysia', 'country_code': 'MY', 'sentiment': 'negative'}, {'text': 'link to the leak fact like my video tweet and see the magic special animation for ', 'country': 'United Kingdom', 'country_code': 'GB', 'sentiment': 'negative'}, {'text': 'hi will watch you tonight at 10 30 pm ist love you appleevent', 'country': 'India', 'country_code': 'IN', 'sentiment': 'neutral'}, {'text': ' at the same time we tweeted same post let like and see magic appleevent', 'country': 'Sri Lanka', 'country_code': 'LK', 'sentiment': 'negative'}, {'text': 'hey lankan tweeps get ready for october appleevent give one heart to this tweet and see the magic', 'country': 'Sri Lanka', 'country_code': 'LK', 'sentiment': 'negative'}]\n",
            "Total tweets: 35\n",
            "[{'country': 'United States', 'number of tweets': 11, 'net sentiment': -6}, {'country': 'Kingdom of Saudi Arabia', 'number of tweets': 1, 'net sentiment': 0}, {'country': 'United Arab Emirates', 'number of tweets': 2, 'net sentiment': -2}, {'country': 'Ghana', 'number of tweets': 2, 'net sentiment': 2}, {'country': 'United Kingdom', 'number of tweets': 2, 'net sentiment': -1}, {'country': 'India', 'number of tweets': 6, 'net sentiment': 0}, {'country': 'Pakistan', 'number of tweets': 2, 'net sentiment': 0}, {'country': 'Turkey', 'number of tweets': 1, 'net sentiment': 0}, {'country': 'Indonesia', 'number of tweets': 1, 'net sentiment': -1}, {'country': 'Canada', 'number of tweets': 1, 'net sentiment': -1}, {'country': 'Kuwait', 'number of tweets': 1, 'net sentiment': -1}, {'country': 'South Africa', 'number of tweets': 1, 'net sentiment': 0}, {'country': 'Sri Lanka', 'number of tweets': 3, 'net sentiment': -3}, {'country': 'Malaysia', 'number of tweets': 1, 'net sentiment': -1}]\n"
          ],
          "name": "stdout"
        },
        {
          "output_type": "display_data",
          "data": {
            "image/png": "[encoded data removed]",
            "text/plain": [
              "<Figure size 432x288 with 1 Axes>"
            ]
          },
          "metadata": {
            "tags": []
          }
        }
      ]
    }
  ]
}