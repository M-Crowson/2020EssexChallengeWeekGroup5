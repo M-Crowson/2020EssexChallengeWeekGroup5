{
  "nbformat": 4,
  "nbformat_minor": 0,
  "metadata": {
    "colab": {
      "name": "WebScrapingMachine.ipynb",
      "provenance": [],
      "collapsed_sections": [],
      "authorship_tag": "ABX9TyNLH6lpcq4XJ8tIg0L71dhk",
      "include_colab_link": true
    },
    "kernelspec": {
      "name": "python3",
      "display_name": "Python 3"
    }
  },
  "cells": [
    {
      "cell_type": "markdown",
      "metadata": {
        "id": "view-in-github",
        "colab_type": "text"
      },
      "source": [
        "<a href=\"https://colab.research.google.com/github/M-Crowson/2020EssexChallengeWeekGroup5/blob/Data-Cleansing-Functions/WebScrapingMachine.ipynb\" target=\"_parent\"><img src=\"https://colab.research.google.com/assets/colab-badge.svg\" alt=\"Open In Colab\"/></a>"
      ]
    },
    {
      "cell_type": "code",
      "metadata": {
        "id": "y0QeIvtYjxoW"
      },
      "source": [
        ""
      ],
      "execution_count": null,
      "outputs": []
    },
    {
      "cell_type": "code",
      "metadata": {
        "id": "sF2mRiOZa1Ms",
        "outputId": "57bda6b2-af68-46ea-a7f6-dd92888882c9",
        "colab": {
          "base_uri": "https://localhost:8080/",
          "height": 193
        }
      },
      "source": [
        "# Install Tweepy\n",
        "!pip install tweepy"
      ],
      "execution_count": 1,
      "outputs": [
        {
          "output_type": "stream",
          "text": [
            "Requirement already satisfied: tweepy in /usr/local/lib/python3.6/dist-packages (3.6.0)\n",
            "Requirement already satisfied: PySocks>=1.5.7 in /usr/local/lib/python3.6/dist-packages (from tweepy) (1.7.1)\n",
            "Requirement already satisfied: requests-oauthlib>=0.7.0 in /usr/local/lib/python3.6/dist-packages (from tweepy) (1.3.0)\n",
            "Requirement already satisfied: six>=1.10.0 in /usr/local/lib/python3.6/dist-packages (from tweepy) (1.15.0)\n",
            "Requirement already satisfied: requests>=2.11.1 in /usr/local/lib/python3.6/dist-packages (from tweepy) (2.23.0)\n",
            "Requirement already satisfied: oauthlib>=3.0.0 in /usr/local/lib/python3.6/dist-packages (from requests-oauthlib>=0.7.0->tweepy) (3.1.0)\n",
            "Requirement already satisfied: idna<3,>=2.5 in /usr/local/lib/python3.6/dist-packages (from requests>=2.11.1->tweepy) (2.10)\n",
            "Requirement already satisfied: urllib3!=1.25.0,!=1.25.1,<1.26,>=1.21.1 in /usr/local/lib/python3.6/dist-packages (from requests>=2.11.1->tweepy) (1.24.3)\n",
            "Requirement already satisfied: chardet<4,>=3.0.2 in /usr/local/lib/python3.6/dist-packages (from requests>=2.11.1->tweepy) (3.0.4)\n",
            "Requirement already satisfied: certifi>=2017.4.17 in /usr/local/lib/python3.6/dist-packages (from requests>=2.11.1->tweepy) (2020.6.20)\n"
          ],
          "name": "stdout"
        }
      ]
    },
    {
      "cell_type": "code",
      "metadata": {
        "id": "MBSMP6OHbDo9"
      },
      "source": [
        "import re\n",
        "import tweepy\n",
        "from tweepy import OAuthHandler\n",
        "consumer_api_key = 'nCSS9AOFEtjC6z3hSrfdgh760'\n",
        "consumer_api_secret = 'zj6ELUiIIycKmSEx6jzUgNIYBGLPk7uLnF241rGzmHvcgHQJ9H' \n",
        "access_token = '1315955315314167808-3rEY0WXk5XasWU1AgCEX6Ahbkjonzs'\n",
        "access_token_secret ='rSc7JXXHqwbbqAHOp3qHUwSYpLC8ViXybnnCXs3M4DNWI'"
      ],
      "execution_count": 22,
      "outputs": []
    },
    {
      "cell_type": "code",
      "metadata": {
        "id": "3DXzCMJPbUSe"
      },
      "source": [
        "authorizer = OAuthHandler(consumer_api_key, consumer_api_secret)\n",
        "authorizer.set_access_token(access_token, access_token_secret)"
      ],
      "execution_count": 23,
      "outputs": []
    },
    {
      "cell_type": "code",
      "metadata": {
        "id": "PCvHKeQsbfvp",
        "outputId": "858a4103-90b4-4164-9b47-4c28d1270299",
        "colab": {
          "base_uri": "https://localhost:8080/",
          "height": 703
        }
      },
      "source": [
        "api = tweepy.API(authorizer ,timeout=15)\n",
        "all_tweets = []\n",
        "search_query = '#AppleEvent'\n",
        "\n",
        "for tweet_object in tweepy.Cursor(api.search,q=search_query+\" -filter:retweets\",lang='en',result_type='recent').items(200):\n",
        "    #filter out tweets that don't have a place attached to them \n",
        "    if tweet_object.place != None:\n",
        "      all_tweets.append({\"text\": tweet_object.text, \"country\": tweet_object.place.country, \"country_code\" : tweet_object.place.country_code})\n",
        "      print(\"Text: \" + tweet_object.text)\n",
        "      print(\"Country: \" + str(tweet_object.place.country))\n",
        "      print(\"Country Code: \" + str(tweet_object.place.country_code))\n",
        "      print(\"--------------------------------------------------------------------------------\")\n"
      ],
      "execution_count": 24,
      "outputs": [
        {
          "output_type": "stream",
          "text": [
            "Text: #AppleEvent\n",
            "Basically Apple thinks even if they will sell poop people will buy it 🤷🏻‍♂️.\n",
            "\n",
            "It's just a 4s with bette… https://t.co/EeAXgwSzCf\n",
            "Country: Pakistan\n",
            "Country Code: PK\n",
            "--------------------------------------------------------------------------------\n",
            "Text: #AppleEvent\n",
            "I have joke on iphone 12 \n",
            "But go and buy it for me first. \n",
            "Then I'll tell u.😏😉\n",
            "@Apple #iPhone12\n",
            "Country: India\n",
            "Country Code: IN\n",
            "--------------------------------------------------------------------------------\n",
            "Text: I loved the blue 😍😍\n",
            "#AppleEvent\n",
            "#Apple12\n",
            "#iPhone12\n",
            "Country: Kingdom of Saudi Arabia\n",
            "Country Code: SA\n",
            "--------------------------------------------------------------------------------\n",
            "Text: #AppleEvent\n",
            "It's just iphone 4s with a better body but price 🤦🏼‍♂️🤔.\n",
            "\n",
            "Without charger and earphones 🤦🏼‍♂️.\n",
            "\n",
            "Beyond… https://t.co/zzHwUV6aYp\n",
            "Country: Pakistan\n",
            "Country Code: PK\n",
            "--------------------------------------------------------------------------------\n",
            "Text: @ijustine Big Coach Taylor Energy #hispeed #AppleEvent #productRED https://t.co/toTXLU5w8V\n",
            "Country: United States\n",
            "Country Code: US\n",
            "--------------------------------------------------------------------------------\n",
            "Text: hey let’s go back to the iPhone 6 cameras, I’m not really interested in seeing all my wrinkles, thanks #iPhone12 #AppleEvent\n",
            "Country: Canada\n",
            "Country Code: CA\n",
            "--------------------------------------------------------------------------------\n"
          ],
          "name": "stdout"
        }
      ]
    },
    {
      "cell_type": "code",
      "metadata": {
        "id": "ovmgZsegcr4Z",
        "outputId": "7bb3881e-c732-4e76-8a20-4788a930bfdc",
        "colab": {
          "base_uri": "https://localhost:8080/",
          "height": 54
        }
      },
      "source": [
        "print(all_tweets)"
      ],
      "execution_count": 25,
      "outputs": [
        {
          "output_type": "stream",
          "text": [
            "[{'text': \"#AppleEvent\\nBasically Apple thinks even if they will sell poop people will buy it 🤷🏻\\u200d♂️.\\n\\nIt's just a 4s with bette… https://t.co/EeAXgwSzCf\", 'country': 'Pakistan', 'country_code': 'PK'}, {'text': \"#AppleEvent\\nI have joke on iphone 12 \\nBut go and buy it for me first. \\nThen I'll tell u.😏😉\\n@Apple #iPhone12\", 'country': 'India', 'country_code': 'IN'}, {'text': 'I loved the blue 😍😍\\n#AppleEvent\\n#Apple12\\n#iPhone12', 'country': 'Kingdom of Saudi Arabia', 'country_code': 'SA'}, {'text': \"#AppleEvent\\nIt's just iphone 4s with a better body but price 🤦🏼\\u200d♂️🤔.\\n\\nWithout charger and earphones 🤦🏼\\u200d♂️.\\n\\nBeyond… https://t.co/zzHwUV6aYp\", 'country': 'Pakistan', 'country_code': 'PK'}, {'text': '@ijustine Big Coach Taylor Energy #hispeed #AppleEvent #productRED https://t.co/toTXLU5w8V', 'country': 'United States', 'country_code': 'US'}, {'text': 'hey let’s go back to the iPhone 6 cameras, I’m not really interested in seeing all my wrinkles, thanks #iPhone12 #AppleEvent', 'country': 'Canada', 'country_code': 'CA'}]\n"
          ],
          "name": "stdout"
        }
      ]
    },
    {
      "cell_type": "code",
      "metadata": {
        "id": "03M6gOZzc7rb",
        "outputId": "8d82ce8d-3d94-4857-8ab2-53da558832ec",
        "colab": {
          "base_uri": "https://localhost:8080/",
          "height": 52
        }
      },
      "source": [
        "import numpy as np \n",
        "import pandas as pd \n",
        "import re  \n",
        "import nltk # an amazing library to play with natural language\n",
        "nltk.download('stopwords')  \n",
        "from nltk.corpus import stopwords \n"
      ],
      "execution_count": 26,
      "outputs": [
        {
          "output_type": "stream",
          "text": [
            "[nltk_data] Downloading package stopwords to /root/nltk_data...\n",
            "[nltk_data]   Package stopwords is already up-to-date!\n"
          ],
          "name": "stdout"
        }
      ]
    },
    {
      "cell_type": "code",
      "metadata": {
        "id": "LIIrJYhVdD9y",
        "outputId": "9271df9f-6711-4a4f-91aa-ef34bbd9c279",
        "colab": {
          "base_uri": "https://localhost:8080/",
          "height": 263
        }
      },
      "source": [
        "tweets = pd.read_csv(\"https://raw.githubusercontent.com/kolaveridi/kaggle-Twitter-US-Airline-Sentiment-/master/Tweets.csv\")\n",
        "print(tweets)"
      ],
      "execution_count": 35,
      "outputs": [
        {
          "output_type": "stream",
          "text": [
            "                 tweet_id  ...               user_timezone\n",
            "0      570306133677760513  ...  Eastern Time (US & Canada)\n",
            "1      570301130888122368  ...  Pacific Time (US & Canada)\n",
            "2      570301083672813571  ...  Central Time (US & Canada)\n",
            "3      570301031407624196  ...  Pacific Time (US & Canada)\n",
            "4      570300817074462722  ...  Pacific Time (US & Canada)\n",
            "...                   ...  ...                         ...\n",
            "14635  569587686496825344  ...                         NaN\n",
            "14636  569587371693355008  ...                         NaN\n",
            "14637  569587242672398336  ...                         NaN\n",
            "14638  569587188687634433  ...  Eastern Time (US & Canada)\n",
            "14639  569587140490866689  ...                         NaN\n",
            "\n",
            "[14640 rows x 15 columns]\n"
          ],
          "name": "stdout"
        }
      ]
    },
    {
      "cell_type": "code",
      "metadata": {
        "id": "yUFttnmRdTol",
        "outputId": "331172b6-65c7-48f4-d12d-4166fce9fef5",
        "colab": {
          "base_uri": "https://localhost:8080/",
          "height": 122
        }
      },
      "source": [
        "X = tweets.iloc[:, 10].values  \n",
        "y = tweets.iloc[:, 1].values\n",
        "\n",
        "print(X)"
      ],
      "execution_count": 36,
      "outputs": [
        {
          "output_type": "stream",
          "text": [
            "['@VirginAmerica What @dhepburn said.'\n",
            " \"@VirginAmerica plus you've added commercials to the experience... tacky.\"\n",
            " \"@VirginAmerica I didn't today... Must mean I need to take another trip!\"\n",
            " ... '@AmericanAir Please bring American Airlines to #BlackBerry10'\n",
            " \"@AmericanAir you have my money, you change my flight, and don't answer your phones! Any other suggestions so I can make my commitment??\"\n",
            " '@AmericanAir we have 8 ppl so we need 2 know how many seats are on the next flight. Plz put us on standby for 4 people on the next flight?']\n"
          ],
          "name": "stdout"
        }
      ]
    },
    {
      "cell_type": "code",
      "metadata": {
        "id": "pUIKxAX0pPnD"
      },
      "source": [
        "#Function for removing web links beggining with http\n",
        "def remove_words_starting_with(link_text, starting_text):\n",
        "    while starting_text in link_text: \n",
        "        word_start = link_text.find(starting_text)\n",
        "        if link_text.find(' ', word_start + 1) >=0:  \n",
        "            word_end = link_text.find(' ', word_start + 1)\n",
        "        else:\n",
        "            word_end = len(link_text) + 1\n",
        "        link_text = link_text[0:word_start] + link_text[word_end:]\n",
        "    return link_text\n",
        "\n",
        "#Function for cleaning text\n",
        "def clean_text(text_in):\n",
        "\n",
        "  #remove web links\n",
        "  processed_tweet = remove_words_starting_with(text_in, \"http\")\n",
        "\n",
        "  #remove user links\n",
        "  processed_tweet = remove_words_starting_with(processed_tweet, \"@\")\n",
        "      \n",
        "  # Remove all the special characters\n",
        "  processed_tweet = re.sub(r'\\W', ' ', processed_tweet)\n",
        "\n",
        "  # remove all single characters\n",
        "  processed_tweet = re.sub(r'\\s+[a-zA-Z]\\s+', ' ', processed_tweet)\n",
        "\n",
        "  # Remove single characters from the start\n",
        "  processed_tweet = re.sub(r'\\^[a-zA-Z]\\s+', ' ', processed_tweet) \n",
        "\n",
        "  # Substituting multiple spaces with single space\n",
        "  processed_tweet= re.sub(r'\\s+', ' ', processed_tweet, flags=re.I)\n",
        "\n",
        "  # Removing prefixed 'b'\n",
        "  processed_tweet = re.sub(r'^b\\s+', '', processed_tweet)\n",
        "\n",
        "  # Converting to Lowercase\n",
        "  processed_tweet = processed_tweet.lower()\n",
        "\n",
        "  return processed_tweet\n"
      ],
      "execution_count": 49,
      "outputs": []
    },
    {
      "cell_type": "code",
      "metadata": {
        "id": "wCbe6x3cqOAR"
      },
      "source": [
        "processed_tweets = []\n",
        "\n",
        "for tweet in range(0, len(X)):  \n",
        "    tweet = clean_text(str(X[tweet]))\n",
        "    processed_tweets.append(tweet)"
      ],
      "execution_count": 50,
      "outputs": []
    },
    {
      "cell_type": "code",
      "metadata": {
        "id": "fvvzPXC7daw9"
      },
      "source": [
        "from sklearn.feature_extraction.text import TfidfVectorizer  \n",
        "tfidfconverter = TfidfVectorizer(max_features=2000, min_df=5, max_df=0.7, stop_words=stopwords.words('english'))  \n",
        "X = tfidfconverter.fit_transform(processed_tweets).toarray()\n"
      ],
      "execution_count": 51,
      "outputs": []
    },
    {
      "cell_type": "code",
      "metadata": {
        "id": "_yReZpg4dftB",
        "outputId": "7716bfca-0d7f-4179-f28b-3c105654d490",
        "colab": {
          "base_uri": "https://localhost:8080/",
          "height": 158
        }
      },
      "source": [
        "from sklearn.ensemble import RandomForestClassifier\n",
        "text_classifier = RandomForestClassifier(n_estimators=100, random_state=0)  \n",
        "text_classifier.fit(X, y)"
      ],
      "execution_count": 52,
      "outputs": [
        {
          "output_type": "execute_result",
          "data": {
            "text/plain": [
              "RandomForestClassifier(bootstrap=True, ccp_alpha=0.0, class_weight=None,\n",
              "                       criterion='gini', max_depth=None, max_features='auto',\n",
              "                       max_leaf_nodes=None, max_samples=None,\n",
              "                       min_impurity_decrease=0.0, min_impurity_split=None,\n",
              "                       min_samples_leaf=1, min_samples_split=2,\n",
              "                       min_weight_fraction_leaf=0.0, n_estimators=100,\n",
              "                       n_jobs=None, oob_score=False, random_state=0, verbose=0,\n",
              "                       warm_start=False)"
            ]
          },
          "metadata": {
            "tags": []
          },
          "execution_count": 52
        }
      ]
    },
    {
      "cell_type": "code",
      "metadata": {
        "id": "PiH3lhymdsYI",
        "outputId": "d43b86df-c67f-4ab9-f4c4-9e4f3e91f9f0",
        "colab": {
          "base_uri": "https://localhost:8080/",
          "height": 703
        }
      },
      "source": [
        "for tweet in all_tweets:\n",
        "    print(\"Unprocessed Tweet: \" + str(tweet.get(\"text\")))\n",
        "    tweet = clean_text(tweet.get(\"text\"))\n",
        " \n",
        "    sentiment = text_classifier.predict(tfidfconverter.transform([tweet]).toarray())\n",
        "    #print(tweet ,\":\", sentiment)\n",
        "\n"
      ],
      "execution_count": 55,
      "outputs": [
        {
          "output_type": "stream",
          "text": [
            "Unprocessed Tweet: #AppleEvent\n",
            "Basically Apple thinks even if they will sell poop people will buy it 🤷🏻‍♂️.\n",
            "\n",
            "It's just a 4s with bette… https://t.co/EeAXgwSzCf\n",
            "  processed tweet:  appleevent basically apple thinks even if they will sell poop people will buy it it just 4s with bette \n",
            "['negative']\n",
            "----------------------------------------\n",
            "Unprocessed Tweet: #AppleEvent\n",
            "I have joke on iphone 12 \n",
            "But go and buy it for me first. \n",
            "Then I'll tell u.😏😉\n",
            "@Apple #iPhone12\n",
            "  processed tweet:  appleevent have joke on iphone 12 but go and buy it for me first then ll tell iphone12\n",
            "['neutral']\n",
            "----------------------------------------\n",
            "Unprocessed Tweet: I loved the blue 😍😍\n",
            "#AppleEvent\n",
            "#Apple12\n",
            "#iPhone12\n",
            "  processed tweet: i loved the blue appleevent apple12 iphone12\n",
            "['positive']\n",
            "----------------------------------------\n",
            "Unprocessed Tweet: #AppleEvent\n",
            "It's just iphone 4s with a better body but price 🤦🏼‍♂️🤔.\n",
            "\n",
            "Without charger and earphones 🤦🏼‍♂️.\n",
            "\n",
            "Beyond… https://t.co/zzHwUV6aYp\n",
            "  processed tweet:  appleevent it just iphone 4s with better body but price without charger and earphones beyond \n",
            "['negative']\n",
            "----------------------------------------\n",
            "Unprocessed Tweet: @ijustine Big Coach Taylor Energy #hispeed #AppleEvent #productRED https://t.co/toTXLU5w8V\n",
            "  processed tweet:  big coach taylor energy hispeed appleevent productred \n",
            "['neutral']\n",
            "----------------------------------------\n",
            "Unprocessed Tweet: hey let’s go back to the iPhone 6 cameras, I’m not really interested in seeing all my wrinkles, thanks #iPhone12 #AppleEvent\n",
            "  processed tweet: hey let go back to the iphone 6 cameras m not really interested in seeing all my wrinkles thanks iphone12 appleevent\n",
            "['positive']\n",
            "----------------------------------------\n"
          ],
          "name": "stdout"
        }
      ]
    }
  ]
}