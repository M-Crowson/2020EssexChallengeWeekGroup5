{
  "nbformat": 4,
  "nbformat_minor": 0,
  "metadata": {
    "colab": {
      "name": "WebScrapingMachine.ipynb",
      "provenance": [],
      "collapsed_sections": [],
      "authorship_tag": "ABX9TyOUCAKcMDpxjlXeLi+QTTlr",
      "include_colab_link": true
    },
    "kernelspec": {
      "name": "python3",
      "display_name": "Python 3"
    }
  },
  "cells": [
    {
      "cell_type": "markdown",
      "metadata": {
        "id": "view-in-github",
        "colab_type": "text"
      },
      "source": [
        "<a href=\"https://colab.research.google.com/github/M-Crowson/2020EssexChallengeWeekGroup5/blob/main/WebScrapingMachine.ipynb\" target=\"_parent\"><img src=\"https://colab.research.google.com/assets/colab-badge.svg\" alt=\"Open In Colab\"/></a>"
      ]
    },
    {
      "cell_type": "code",
      "metadata": {
        "id": "y0QeIvtYjxoW"
      },
      "source": [
        ""
      ],
      "execution_count": null,
      "outputs": []
    },
    {
      "cell_type": "code",
      "metadata": {
        "id": "sF2mRiOZa1Ms",
        "outputId": "40616088-b274-4f37-9e28-ca4ec2cede51",
        "colab": {
          "base_uri": "https://localhost:8080/",
          "height": 193
        }
      },
      "source": [
        "# Install Tweepy\n",
        "!pip install tweepy"
      ],
      "execution_count": 1,
      "outputs": [
        {
          "output_type": "stream",
          "text": [
            "Requirement already satisfied: tweepy in /usr/local/lib/python3.6/dist-packages (3.6.0)\n",
            "Requirement already satisfied: requests-oauthlib>=0.7.0 in /usr/local/lib/python3.6/dist-packages (from tweepy) (1.3.0)\n",
            "Requirement already satisfied: PySocks>=1.5.7 in /usr/local/lib/python3.6/dist-packages (from tweepy) (1.7.1)\n",
            "Requirement already satisfied: requests>=2.11.1 in /usr/local/lib/python3.6/dist-packages (from tweepy) (2.23.0)\n",
            "Requirement already satisfied: six>=1.10.0 in /usr/local/lib/python3.6/dist-packages (from tweepy) (1.15.0)\n",
            "Requirement already satisfied: oauthlib>=3.0.0 in /usr/local/lib/python3.6/dist-packages (from requests-oauthlib>=0.7.0->tweepy) (3.1.0)\n",
            "Requirement already satisfied: urllib3!=1.25.0,!=1.25.1,<1.26,>=1.21.1 in /usr/local/lib/python3.6/dist-packages (from requests>=2.11.1->tweepy) (1.24.3)\n",
            "Requirement already satisfied: certifi>=2017.4.17 in /usr/local/lib/python3.6/dist-packages (from requests>=2.11.1->tweepy) (2020.6.20)\n",
            "Requirement already satisfied: idna<3,>=2.5 in /usr/local/lib/python3.6/dist-packages (from requests>=2.11.1->tweepy) (2.10)\n",
            "Requirement already satisfied: chardet<4,>=3.0.2 in /usr/local/lib/python3.6/dist-packages (from requests>=2.11.1->tweepy) (3.0.4)\n"
          ],
          "name": "stdout"
        }
      ]
    },
    {
      "cell_type": "code",
      "metadata": {
        "id": "MBSMP6OHbDo9"
      },
      "source": [
        "import re\n",
        "import tweepy\n",
        "from tweepy import OAuthHandler\n",
        "consumer_api_key = '7zpX66FGie0mxOCG4bhEfxGVv'\n",
        "consumer_api_secret = 'mpCuujJLGfgKukQ0hRzVC2xsgLYZPG0CMNqrZKH6OeCotn06Mq' \n",
        "access_token = '1315955315314167808-rKjX0cr6KFfe4qrVuUi5VyoB7vTDqO'\n",
        "access_token_secret ='gD572kHUQkd04KKMaB6gMuDHB6vxEMvUavUU6DOfQiEi7'"
      ],
      "execution_count": 3,
      "outputs": []
    },
    {
      "cell_type": "code",
      "metadata": {
        "id": "3DXzCMJPbUSe"
      },
      "source": [
        "authorizer = OAuthHandler(consumer_api_key, consumer_api_secret)\n",
        "authorizer.set_access_token(access_token, access_token_secret)"
      ],
      "execution_count": 5,
      "outputs": []
    },
    {
      "cell_type": "code",
      "metadata": {
        "id": "PCvHKeQsbfvp"
      },
      "source": [
        "api = tweepy.API(authorizer ,timeout=15)\n",
        "all_tweets = []\n",
        "search_query = 'AppleEvent'\n",
        "\n",
        "for tweet_object in tweepy.Cursor(api.search,q=search_query+\" -filter:retweets\",lang='en',result_type='recent').items(200):\n",
        "    all_tweets.append(tweet_object.text)"
      ],
      "execution_count": 9,
      "outputs": []
    },
    {
      "cell_type": "code",
      "metadata": {
        "id": "ovmgZsegcr4Z",
        "outputId": "632dc019-00e9-4e69-ce13-33ecaaf313b7",
        "colab": {
          "base_uri": "https://localhost:8080/",
          "height": 54
        }
      },
      "source": [
        "print(all_tweets)"
      ],
      "execution_count": 10,
      "outputs": [
        {
          "output_type": "stream",
          "text": [
            "['See what happens when you like this tweet. Try it.\\n\\n#AppleEvent https://t.co/uy1bUeWwgN', 'Do we like the animation? 👀Hit the like button to see it! #AppleEvent https://t.co/sPZUECTZkA', '@SuperSaf #AppleEvent\\xa0 #EndSARS We are tired!!!!!', 'A Facebook Business Page is a free opportunity for businesses to increase brand awareness and generate sales on Fac… https://t.co/VE2bVyNoDF', 'YO IT REALLY WORKSS! LIKE FOR SURPRISE #AppleEvent https://t.co/vjRItcUOev', 'Tap the like button it’s so cool!\\n#AppleEvent https://t.co/iFABtRnMWb', 'Tap the like button and be surprised!\\n\\n#AppleEvent', 'Excited for today‘s #AppleEvent to see the new iPhone and other goodies being released. \\nLove the like button anima… https://t.co/ilZ2qK9Abn', 'Tap the like button it’s so cool!\\n#AppleEvent', 'this one is so cool omg #AppleEvent https://t.co/LZyU3V7dIb', 'TAP THE LIKE BUTTON TO BE AMAZZZZZED #AppleEvent https://t.co/NeT1vqs5mV', 'Like this tweet for magic\\n\\n#AppleEvent', 'See what happens if you like this tweet\\nFun Fact: This is the first animation which has more than 60 frames (66)… https://t.co/iaEKCqUamk', 'What’s new and brave  #AppleEvent', 'Click the like button for a surprise #AppleEvent https://t.co/WK88yxpEel', 'LETS GO!! #AppleEvent', '@anuragpremsoni @r0blopez #AppleEvent\\xa0 #EndSARS We are tired!!!!!!', 'Try the like!\\n#AppleEvent https://t.co/5Qd1PbjbIH', 'iPhone 12 is coming today, like for a surprise #AppleEvent', 'Are you looking for this type of flyer?\\nhire me on Fiverr https://t.co/SxuSlxUGup\\n\\n#flyerdesign #flyer #Flyers… https://t.co/SKICISmfcQ', '#HelloCHEN #HelloMVTeaser #AppleEvent omg hit the like button it’s cute \\n https://t.co/UEx3vuaEBF', 'Notice anything new today? 🤔 #AppleEvent https://t.co/DsT7vsYcZt https://t.co/cA3QaE8duM', 'LIKE FOR A SURPRISE!!!!\\n#AppleEvent', 'Alright boys and girls, #AppleEvent in three hours', 'like for a suprise #AppleEvent https://t.co/zqt4cBY4Gh', 'Hit like to see the new animation for \\n\\n#AppleEvent today', 'Go go go! Can’t wait for it!  #AppleEvent', '#AppleEvent nice touch with the likes button 😎 https://t.co/nOSkv4dEtk', 'THIS IS SO NICE #AppleEvent', '#AppleEvent today is the day! Get ready! #iPhone12 Where my retweets at?!!', 'omg click the like button #AppleEvent', 'Tap the like button and be surprised!\\n#Valimai\\n#AppleEvent', \"LET'S Go LIKE FOR SURPRISE ! #AppleEvent https://t.co/zSp46551eZ\", 'Very excited for the event👍👍👍🔥🔥🔥 #AppleEvent', 'To Mend a Broken Internet, Create Online Parks - News from #wired #AppleEvent https://t.co/WQWyInuR1T', '#AppleEvent time to troll rich people. Also the like button tho.', '#PrimeDay and #AppleEvent for the new iPhone on the same day? Great day.', 'I really love it OMG (fav) \\n #AppleEvent', '#AppleEvent\\xa0 #EndSARS We are tired!!!!!!!!!! https://t.co/yit7hjGIw9', 'Like for a Surprise #AppleEvent https://t.co/9vewUXJ9iS', 'iPhone 12 is coming today #AppleEvent', '#AppleEvent Soon 😍 .', 'Happy #AppleEvent Day!', 'Another cool custom animation when you like a tweet that has #AppleEvent https://t.co/HlQDllIpaf', 'Like this tweet and see magic. \\U0001f929\\n\\n#AppleEvent\\n https://t.co/P8hUw8Ugy2', 'Can’t wait #AppleEvent', '#PrimeDay #PrimeDay2020 is a flop, not really any deals. I got a 75 inch TV the other day from brandsmart for $568.… https://t.co/RgMJNta7sx', \"Hit Like U will b surprised \\nIf it's not work U have 2 update ur Twitter app 😁✌️\\n\\n#AppleEvent https://t.co/Tej6ajw9Fo\", 'Tomorrow is Tim Apple day #AppleEvent', 'like this omg #AppleEvent', 'Good Morning Everyone. \\n\\nIt’s time for #AppleEvent and as always Apple Store is down for some 5G upgrades🤤 Any fina… https://t.co/JiKn9ha3ae', \"@SuperSaf I'm excited for the #AppleEvent https://t.co/lWfCACdvAu\", 'LETSS GOOO LIKE FOR SURPRISE!!! #AppleEvent https://t.co/dJFRv4uf4I', 'What i hate about the pros is their only come on limited color, and all of them are ugleehhh #AppleEvent', 'YOOO THIS IS MAD #AppleEvent https://t.co/G5j0JiS21b', 'bro i can’t believe twitter really removed the haptics from twitter when you liked something #AppleEvent check if your phone still vibrates', 'like this besties #AppleEvent https://t.co/UkIhqyZZH7', '#AppleEvent is gonna launch iPhone 12.\\nPeople who bought iPhone 11 , just hours ago. https://t.co/uOt1L3gIM2', 'LIKE FOR A SURPRISE!!!!\\n#AppleEvent https://t.co/W9Oz7LLq2h', 'can’t wait for the #AppleEvent\\n\\n(3)\\n\\n(the like animation reminds me of... roses 😁😁😁) https://t.co/CcKw6YkBUV', '#AppleEvent\\nOh shit here we go again 😢 https://t.co/7Xs6yNVDGL', 'Like this tweet and see the magic  \\n\\n#KomaramBheemNTR \\n#AppleEvent https://t.co/w6qcg6zc8d', 'yo this is sick like this #AppleEvent', '#AppleEvent tonight 😍', 'Omg do it. It’s so cute, it makes me wanna eat it 😍\\U0001f970. #AppleEvent https://t.co/QCIrT3SdI8', '@mohantyakash_ #AppleEvent\\xa0 #EndSARS We are tired!!!!!', 'The new one is even better #AppleEvent', 'Today is the day!  Everyone can stop asking about new phones until tomorrow!  #AppleEvent', 'These like effects are amazing.\\n\\n#AppleEvent', 'the like button omg #AppleEvent https://t.co/LOky4tpGBO', 'In 10 years,📱replaced:\\n\\n📟 ☎️ 📠 💽 💾 💻\\n⏰ 📷 📹 🎥 📺 📻\\n📰 💿 💳 💼 📎 📄\\n⏳ 🔦 📼 📚 ⌚️ 🎮\\n📓 ✏️ 📁 🎤 📇 📆\\n🎰 💵 📬 📝 🆘 🏧\\n🎫 ✉️ 📤 ✒️ 📊 📋\\n🔎… https://t.co/4iljyZFrgF', '#AppleEvent &amp; #PrimeDay today 👀', '#AppleEvent idc about apple but I like the like button', '#PrimeDay #PrimeDay2020 #AppleEvent omg hit the like button \\n https://t.co/UEx3vuaEBF', '#AppleEvent Letsss goooo', 'This is so cool.\\n#AppleEvent', 'Like this tweet and see the magic😍🔥\\n\\n#AppleEvent\\n\\n#Doctor #Ayalaan', 'I’m just liking things I haven’t even read #AppleEvent or seen. You can try it. \\nLike my post to see magic https://t.co/E7fpYtpd32', 'Click the heart for a surprise 😘 #AppleEvent', 'Like for a surprise #AppleEvent https://t.co/PlffdtBZQU', '#AppleEvent\\xa0 #EndSARS We are tired!!!!!!!!! https://t.co/RFWt066kur', '#AppleEvent\\xa0 day\\n\\nLike and see the magic 🏌️\\u200d♂️ 🏌️\\u200d♂️', 'LIKE FOR A SURPRISE #AppleEvent https://t.co/oRJcpmaJwn', 'All in One Shopping Android app\\nhttps://t.co/IDvUkmIpih\\n\\n#CSKvsSRH #SRHvsCSK #SooraraiPottruOnPrime Ratan Tata… https://t.co/6rCsYxNPfA', 'I’m pumped for today’s event. #AppleEvent day!\\n\\nI be posting here if you are unable to watch the event. https://t.co/F01bW8gGoU', '#AppleEvent start timing in major city \\n#dopetech \\n#Appleevent2020 #iPhone #iPhone12Series #iPhone12 #A14bionic… https://t.co/CYPmiepHeY', '#AppleEvent Today looks like its time to sell my kidney', 'like for a surprise !! #AppleEvent \\nhttps://t.co/qFZrGo9glQ', '#TuesdayThoughts Good Day Twitter friends 😊 \\nTap like button || Surprise || \\n\\n#GoodMorningTwitterWorld… https://t.co/4dn6OfTVsr', '#AppleEvent pinto amazon #Apple #iPhone12 #BigBillionDays #bomdia https://t.co/66pbXLrc0O', 'The #AppleEvent is happening in a few hours and my current iphone is already glitching 🙃', 'hit the like button #AppleEvent https://t.co/7DAZyKZHgK', 'YOOO THIS IS MAD #AppleEvent https://t.co/ogAlwLFWJ8', 'Like to be amazed \\n\\n#AppleEvent https://t.co/GK15BwnW4G', 'Hi Speed, #AppleEvent #iPhone12  Less than 5 hours to go IST for the new Blockbuster to arrive TODAY.. @Apple #Apple', 'See what happens when you like this tweet. Try it.\\n\\n#AppleEvent https://t.co/D8YsBnONjH', 'Another custom animation when you like any tweet with #AppleEvent hashtag. \\n\\nI think this will now be a norm on… https://t.co/5jGkIYi9jj', 'Fav ce tweet #AppleEvent', 'All in One Shopping Android app\\nhttps://t.co/X1imhFDaI0\\n\\n#CSKvsSRH #SRHvsCSK #SooraraiPottruOnPrime Ratan Tata… https://t.co/6QKPzOZ42S', 'press like #AppleEvent https://t.co/3WI3r1HLZ0', 'bout to find me a sugar daddy  #AppleEvent', 'Here’s the Animation! #AppleEvent\\nWhat are you most excited for?', 'Who is excited for the #AppleEvent?\\n\\nMy non-existent Swiss bank account I guess.', 'heyy everyone this is so cute omg  #AppleEvent https://t.co/h7p5w0obV1', '#AppleEvent\\xa0 #EndSARS We are tired!!!! https://t.co/alUmk00YtZ', '#AppleEvent Eyephone12 please please 5G.', 'like for a surprise #AppleEvent https://t.co/LhUfQbMOna', 'Hit Like, See what happens. Try it Now with Teche Now.\\n\\n#AppleEvent #techenow #Apple https://t.co/opmtf4GYv9', 'Fav ce tweet #AppleEvent', '#AppleEvent magic \\nHit the fav. button ❤', 'New animation is out for like button for new mobiles  #iPhone12 #AppleEvent https://t.co/pG8iW6PTjx', 'Like This Tweet\\n#AppleEvent', 'like for a surprise #AppleEvent https://t.co/aUZsJUeUiJ', 'Also, good morning. It’s a great day to  protest #SarsMustEnd while the #AppleEvent comes on in just a few hours.', \"Y'all #AppleEvent https://t.co/ibOuSYX6r1\", 'The App Store, it’s down. Happy #AppleEvent day! May all you dreams and wishes come true. https://t.co/Xs7lQ8omfV', 'Like for a surprise! #AppleEvent', 'LIKE AND BE HAPPY FOR THE REST OF YOUR LIFE\\n#AppleEvent https://t.co/UM2VLHIysF', 'YOO LIKE THIS TWEET #AppleEvent', 'Aj aik camera aur dal k awam ka kata jaega 😂 please remove that ugly notch in iPhone 12.\\n\\n#AppleEvent', 'Like ce tweet 👀 #AppleEvent https://t.co/PLr9CEulnQ', 'Cuba like tweet ni #AppleEvent https://t.co/OzDl3771Cn', \"Is it #AppleEvent day?! Let's hope the grand surprise isn't widgets this time 😈 Good morning guys 😅\", 'All in One Shopping Android app\\nhttps://t.co/EInEseFzJH\\n\\n#CSKvsSRH #SRHvsCSK #SooraraiPottruOnPrime Ratan Tata… https://t.co/o8bQT3n1xZ', '@stufflistings #stufflistingsarmy still trending 🔥\\n\\n#AppleEvent 😛', '#AppleEvent omg hit the like button \\n https://t.co/UEx3vuaEBF', '#AppleEvent like this \\U0001f92d', '#AppleEvent not as good', 'Magic like\\n#AppleEvent', 'Extremely excited for the Apple event \\U0001f929\\n#AppleEvent', 'Hit Like, see what happens.\\nNew Like animation for the #AppleEvent https://t.co/jwB7ukaz3R', 'And the wait is over 😍\\U0001f973#AppleEvent https://t.co/ojEoWDqL91', 'How vain it is to ask followers to hit like on tweets mentioning #AppleEvent  as if you are the dev/coder that achi… https://t.co/QoJvOESDFY', 'A new way to LIKE the #Apple.\\nTOUCH the LIKE button and see the new animation.\\n#AppleEvent\\n#iPhone12 https://t.co/yRuygxRBIX', 'Tap the like button to be amazed! #AppleEvent https://t.co/7u8Vrq3Bdm', 'Less than 5 hours left! #AppleEvent https://t.co/kG1KS2rHZ2', 'like for a surprise #AppleEvent https://t.co/UErMHaUTtk', '#AppleEvent\\xa0 #EndSARS We are tired!!!!! https://t.co/F7T8ANuTzy', 'LIKE FOR A SURPRISE #AppleEvent https://t.co/Si4ZfXkxA3', '#AppleEvent today. \\nBetter be a new damn iPhones and AppleTVs announced', 'press on the like button😁 #AppleEvent https://t.co/xNUGDFOFKz', 'Like This Tweet and See the Magiccc.\\n\\n#AppleEvent', 'Like this tweet and see magic \\U0001f929\\n\\n#AppleEvent https://t.co/9dc5WgobfE', 'Again #AppleEvent \\n\\n👇👇👇 https://t.co/bLMe4XWdzS', 'Tap the like button and be surprised!\\n\\n#AppleEvent https://t.co/39fURCi2Kg', 'TO WATCH OR NOT TO WATCH? That is the question. #AppleEvent https://t.co/4BS6Wm715I', 'Get ready tonight..😘😘\\n #AppleEvent', 'Seems \\u2066@Apple\\u2069 Finally added support for India in their mobile app #AppleEvent https://t.co/8XUYK1ouF1', 'Love @Apple’s like animations! #AppleEvent https://t.co/QShEDVz9Y3', 'I’m so ready for the #AppleEvent !!', \"So Apple event is scheduled for today at 10:30 PM\\nDo like, it'll be fun 😎\\n#AppleEvent\", 'Like This Tweet and See the Magiccc.\\n\\n#AppleEvent', '@ijustine #AppleEvent\\xa0 #EndSARS We are tired!!!!!!', '#AppleEvent like the fucking tweet to see some sick shit', 'Get Ready to @apple new #iphone \\n#AppleEvent  TODAY \\nCredits- @r0blopez https://t.co/Co5OyiTYal', 'Tap the like button it’s so cool!\\n\\n#AppleEvent https://t.co/Th53lFOI3W', 'like for a surprise #AppleEvent https://t.co/tb6yR2pLmG', 'like for a surprise #AppleEvent https://t.co/tyVK3coOCN', '#AppleEvent #Apple $APPL #iPhone12 \\nhttps://t.co/0ftHhuQIEF', 'So excited 😆♥️😍\\n#AppleEvent', '@cyberomin @OmaleAkoh they will surely hear from us #AppleEvent , because #SARSMUSTEND', 'Waiting for #AppleEvent', '#AppleEvent is today! https://t.co/IeZnrrz0oA', 'LETS GOOO LIKE FOR SURPRISE!!!!\\n#AppleEvent https://t.co/1u1LETMV5R', 'GO BACK TO PARTY CITY WHERE YOU BELONG!!! #AppleEvent https://t.co/LhIoHdxCIN', '3 hours and 45 minutes 🔥🔥\\n\\n#AppleEvent https://t.co/t90Mk4ifso', 'How to afford Iphone 12 #AppleEvent https://t.co/4nXyDjZruZ', 'For the sake of my unborn children \\n\\n#SarsMustGoNow #EndPoliceBrutalityinNigeria \\n#EndSARS \\n#AppleEvent https://t.co/L89pOfNfUL', 'Like for a surprise, bitch #AppleEvent', 'the like button omg #AppleEvent https://t.co/yjE9THhyDj', 'Start tapping.\\n \\n#AppleEvent', '#AppleEvent\\xa0 #EndSARS We are tired!!!!!!! https://t.co/kkd3WXDfq6', \"Or is it because I'm wearing my glasses hng and i wanna stay up until 1 for the #AppleEvent too\", '#appleevent tonight yeeeee\\nthe like animation is so cute\\U0001f970', 'like this tweet and see what happens😌 #AppleEvent', 'Magic Likes once again with #AppleEvent\\n\\n#SarkaruVaariPaata @urstrulyMahesh', 'iPhone 12 is coming.\\n\\n#AppleEvent https://t.co/klIheyOO0f', \"new iPhones being revealed tonight at the #AppleEvent I'm hearing? https://t.co/QqpYsRtGXG\", 'Like This Tweet and See the Magiccc.\\n\\n#AppleEvent', '#AppleEvent \\nLike for a nipple', 'See what happens when you like this tweet. Try it.\\n\\n#AppleEvent https://t.co/otEkvnNASv', 'New like animation on #AppleEvent    ⬇️', \"Hit Like, see what happens 😉\\n\\n🖤\\n❤️\\n\\nNew Like animation for the #AppleEvent today!\\n\\n*If it doesn't work for you, ref… https://t.co/zdjBAuBSMP\", 'As you tweet #SARSMUSTENDNOW #SarsMustGo #EndPoliceBrutalityinNigeria please include the #AppleEvent  let the world… https://t.co/bMZVcA3x5i', 'A14 bionic is so efficient that iPhone 12 will not have a battery. #AppleEvent #Apple #Appleevent2020', '@ShivamD80806621 @cyberomin Nigerian police officials label you a criminal for owning an apple product.\\nWe just wan… https://t.co/5gpLAx3ATZ', 'Ready to see what these new iPhones are looking like. Hopefully they “look like something” in @Alexis_love_mb voice. #AppleEvent', 'This is so COOL #AppleEvent https://t.co/S7NXkvcAZ1', 'IT LOOKS LIKE THE PACKSGING OF THOSE CHOCOLATEORANGE THINGS #AppleEvent', 'Apple iPhone 12 event: How to watch it and what to expect #AppleEvent https://t.co/104V2js8vs https://t.co/uXPwBAfcn3', 'Thank god! Im poor 😆\\n#AppleEvent', 'Click on the like button &amp; see the magic! @Apple #AppleEvent', 'Here we goooo #AppleEvent https://t.co/YeVG9nOX7S', '#AppleEvent Check the like animation :O', 'Y’all it’s  #AppleEvent today and hundreds of thousands, possibly more will be live streaming. They’re supposedly r… https://t.co/U7AdZjAWFN', 'The like animation is some what laggy, did u felt the same?\\n#AppleEvent', 'More images of Robert Pattinson as Bruce Wayne in #TheBatman #AppleEvent https://t.co/wQcqvX5qTn', 'Like This Tweet and See the Magic 🍏🍎\\n#AppleEvent', \"LET'S GOOOOOO 5 MORE HOURS TILL #AppleEvent\", '#iPhone12 gonna be released today \\U0001f929 \\nNew like button lol try it #AppleEvent']\n"
          ],
          "name": "stdout"
        }
      ]
    },
    {
      "cell_type": "code",
      "metadata": {
        "id": "03M6gOZzc7rb",
        "outputId": "dc6ad0c2-b2c4-4d41-ec3d-8c40b390c948",
        "colab": {
          "base_uri": "https://localhost:8080/",
          "height": 52
        }
      },
      "source": [
        "import numpy as np \n",
        "import pandas as pd \n",
        "import re  \n",
        "import nltk # an amazing library to play with natural language\n",
        "nltk.download('stopwords')  \n",
        "from nltk.corpus import stopwords \n"
      ],
      "execution_count": 11,
      "outputs": [
        {
          "output_type": "stream",
          "text": [
            "[nltk_data] Downloading package stopwords to /root/nltk_data...\n",
            "[nltk_data]   Unzipping corpora/stopwords.zip.\n"
          ],
          "name": "stdout"
        }
      ]
    },
    {
      "cell_type": "code",
      "metadata": {
        "id": "LIIrJYhVdD9y",
        "outputId": "9b8ce98f-5387-41c6-fcf9-667399d1ca90",
        "colab": {
          "base_uri": "https://localhost:8080/",
          "height": 263
        }
      },
      "source": [
        "tweets = pd.read_csv(\"https://raw.githubusercontent.com/kolaveridi/kaggle-Twitter-US-Airline-Sentiment-/master/Tweets.csv\")\n",
        "print(tweets)"
      ],
      "execution_count": 12,
      "outputs": [
        {
          "output_type": "stream",
          "text": [
            "                 tweet_id  ...               user_timezone\n",
            "0      570306133677760513  ...  Eastern Time (US & Canada)\n",
            "1      570301130888122368  ...  Pacific Time (US & Canada)\n",
            "2      570301083672813571  ...  Central Time (US & Canada)\n",
            "3      570301031407624196  ...  Pacific Time (US & Canada)\n",
            "4      570300817074462722  ...  Pacific Time (US & Canada)\n",
            "...                   ...  ...                         ...\n",
            "14635  569587686496825344  ...                         NaN\n",
            "14636  569587371693355008  ...                         NaN\n",
            "14637  569587242672398336  ...                         NaN\n",
            "14638  569587188687634433  ...  Eastern Time (US & Canada)\n",
            "14639  569587140490866689  ...                         NaN\n",
            "\n",
            "[14640 rows x 15 columns]\n"
          ],
          "name": "stdout"
        }
      ]
    },
    {
      "cell_type": "code",
      "metadata": {
        "id": "yUFttnmRdTol",
        "outputId": "b0c6a604-3ee0-4681-cb54-99b588635ae0",
        "colab": {
          "base_uri": "https://localhost:8080/",
          "height": 122
        }
      },
      "source": [
        "X = tweets.iloc[:, 10].values  \n",
        "y = tweets.iloc[:, 1].values\n",
        "\n",
        "print(X)"
      ],
      "execution_count": 13,
      "outputs": [
        {
          "output_type": "stream",
          "text": [
            "['@VirginAmerica What @dhepburn said.'\n",
            " \"@VirginAmerica plus you've added commercials to the experience... tacky.\"\n",
            " \"@VirginAmerica I didn't today... Must mean I need to take another trip!\"\n",
            " ... '@AmericanAir Please bring American Airlines to #BlackBerry10'\n",
            " \"@AmericanAir you have my money, you change my flight, and don't answer your phones! Any other suggestions so I can make my commitment??\"\n",
            " '@AmericanAir we have 8 ppl so we need 2 know how many seats are on the next flight. Plz put us on standby for 4 people on the next flight?']\n"
          ],
          "name": "stdout"
        }
      ]
    },
    {
      "cell_type": "code",
      "metadata": {
        "id": "wCbe6x3cqOAR"
      },
      "source": [
        "processed_tweets = []\n",
        " \n",
        "for tweet in range(0, len(X)):  \n",
        "    # Remove all the special characters\n",
        "    processed_tweet = re.sub(r'\\W', ' ', str(X[tweet]))\n",
        " \n",
        "    # remove all single characters\n",
        "    processed_tweet = re.sub(r'\\s+[a-zA-Z]\\s+', ' ', processed_tweet)\n",
        " \n",
        "    # Remove single characters from the start\n",
        "    processed_tweet = re.sub(r'\\^[a-zA-Z]\\s+', ' ', processed_tweet) \n",
        " \n",
        "    # Substituting multiple spaces with single space\n",
        "    processed_tweet= re.sub(r'\\s+', ' ', processed_tweet, flags=re.I)\n",
        " \n",
        "    # Removing prefixed 'b'\n",
        "    processed_tweet = re.sub(r'^b\\s+', '', processed_tweet)\n",
        " \n",
        "    # Converting to Lowercase\n",
        "    processed_tweet = processed_tweet.lower()\n",
        " \n",
        "    processed_tweets.append(processed_tweet)"
      ],
      "execution_count": 14,
      "outputs": []
    },
    {
      "cell_type": "code",
      "metadata": {
        "id": "fvvzPXC7daw9"
      },
      "source": [
        "from sklearn.feature_extraction.text import TfidfVectorizer  \n",
        "tfidfconverter = TfidfVectorizer(max_features=2000, min_df=5, max_df=0.7, stop_words=stopwords.words('english'))  \n",
        "X = tfidfconverter.fit_transform(processed_tweets).toarray()\n"
      ],
      "execution_count": 15,
      "outputs": []
    },
    {
      "cell_type": "code",
      "metadata": {
        "id": "_yReZpg4dftB",
        "outputId": "16b9e1eb-64f2-41a7-cba5-4e7ca9ee0a14",
        "colab": {
          "base_uri": "https://localhost:8080/",
          "height": 158
        }
      },
      "source": [
        "from sklearn.ensemble import RandomForestClassifier\n",
        "text_classifier = RandomForestClassifier(n_estimators=100, random_state=0)  \n",
        "text_classifier.fit(X, y)"
      ],
      "execution_count": 16,
      "outputs": [
        {
          "output_type": "execute_result",
          "data": {
            "text/plain": [
              "RandomForestClassifier(bootstrap=True, ccp_alpha=0.0, class_weight=None,\n",
              "                       criterion='gini', max_depth=None, max_features='auto',\n",
              "                       max_leaf_nodes=None, max_samples=None,\n",
              "                       min_impurity_decrease=0.0, min_impurity_split=None,\n",
              "                       min_samples_leaf=1, min_samples_split=2,\n",
              "                       min_weight_fraction_leaf=0.0, n_estimators=100,\n",
              "                       n_jobs=None, oob_score=False, random_state=0, verbose=0,\n",
              "                       warm_start=False)"
            ]
          },
          "metadata": {
            "tags": []
          },
          "execution_count": 16
        }
      ]
    },
    {
      "cell_type": "code",
      "metadata": {
        "id": "PiH3lhymdsYI",
        "outputId": "46e16be6-c830-487b-9b4b-a7e85c24d4d1",
        "colab": {
          "base_uri": "https://localhost:8080/",
          "height": 1000
        }
      },
      "source": [
        "for tweet in all_tweets:\n",
        "    # Remove all the special characters\n",
        "    processed_tweet = re.sub(r'\\W', ' ', tweet)\n",
        " \n",
        "    # remove all single characters\n",
        "    processed_tweet = re.sub(r'\\s+[a-zA-Z]\\s+', ' ', processed_tweet)\n",
        " \n",
        "    # Remove single characters from the start\n",
        "    processed_tweet = re.sub(r'\\^[a-zA-Z]\\s+', ' ', processed_tweet) \n",
        " \n",
        "    # Substituting multiple spaces with single space\n",
        "    processed_tweet= re.sub(r'\\s+', ' ', processed_tweet, flags=re.I)\n",
        " \n",
        "    # Removing prefixed 'b'\n",
        "    processed_tweet = re.sub(r'^b\\s+', '', processed_tweet)\n",
        " \n",
        "    # Converting to Lowercase\n",
        "    processed_tweet = processed_tweet.lower()\n",
        " \n",
        "    sentiment = text_classifier.predict(tfidfconverter.transform([ processed_tweet]).toarray())\n",
        "    print(processed_tweet ,\":\", sentiment)\n"
      ],
      "execution_count": 17,
      "outputs": [
        {
          "output_type": "stream",
          "text": [
            "see what happens when you like this tweet try it appleevent https co uy1buewwgn : ['neutral']\n",
            "do we like the animation hit the like button to see it appleevent https co spzuectzka : ['neutral']\n",
            " supersaf appleevent endsars we are tired  : ['negative']\n",
            "a facebook business page is free opportunity for businesses to increase brand awareness and generate sales on fac https co ve2bvynodf : ['neutral']\n",
            "yo it really workss like for surprise appleevent https co vjritcuoev : ['negative']\n",
            "tap the like button it so cool appleevent https co ifabtrnmwb : ['neutral']\n",
            "tap the like button and be surprised appleevent : ['negative']\n",
            "excited for today appleevent to see the new iphone and other goodies being released love the like button anima https co ilz2qk9abn : ['positive']\n",
            "tap the like button it so cool appleevent : ['negative']\n",
            "this one is so cool omg appleevent https co lzyu3v7dib : ['positive']\n",
            "tap the like button to be amazzzzzed appleevent https co net1vqs5mv : ['neutral']\n",
            "like this tweet for magic appleevent : ['negative']\n",
            "see what happens if you like this tweet fun fact this is the first animation which has more than 60 frames 66 https co iaekcquamk : ['neutral']\n",
            "what new and brave appleevent : ['negative']\n",
            "click the like button for surprise appleevent https co wk88yxpeel : ['neutral']\n",
            "lets go appleevent : ['negative']\n",
            " anuragpremsoni r0blopez appleevent endsars we are tired  : ['negative']\n",
            "try the like appleevent https co 5qd1pbjbih : ['neutral']\n",
            "iphone 12 is coming today like for surprise appleevent : ['negative']\n",
            "are you looking for this type of flyer hire me on fiverr https co sxuslxugup flyerdesign flyer flyers https co skicismfcq : ['neutral']\n",
            " hellochen hellomvteaser appleevent omg hit the like button it cute https co uex3vuaebf : ['neutral']\n",
            "notice anything new today appleevent https co dst7vsyczt https co ca3qae8dum : ['neutral']\n",
            "like for surprise appleevent : ['negative']\n",
            "alright boys and girls appleevent in three hours : ['negative']\n",
            "like for suprise appleevent https co zqt4cby4gh : ['neutral']\n",
            "hit like to see the new animation for appleevent today : ['negative']\n",
            "go go go can wait for it appleevent : ['negative']\n",
            " appleevent nice touch with the likes button https co noskv4detk : ['neutral']\n",
            "this is so nice appleevent : ['negative']\n",
            " appleevent today is the day get ready iphone12 where my retweets at  : ['negative']\n",
            "omg click the like button appleevent : ['neutral']\n",
            "tap the like button and be surprised valimai appleevent : ['negative']\n",
            "let go like for surprise appleevent https co zsp46551ez : ['neutral']\n",
            "very excited for the event appleevent : ['negative']\n",
            "to mend broken internet create online parks news from wired appleevent https co wqwyinur1t : ['neutral']\n",
            " appleevent time to troll rich people also the like button tho  : ['negative']\n",
            " primeday and appleevent for the new iphone on the same day great day  : ['positive']\n",
            "i really love it omg fav appleevent : ['positive']\n",
            " appleevent endsars we are tired https co yit7hjgiw9 : ['neutral']\n",
            "like for surprise appleevent https co 9vewuxj9is : ['neutral']\n",
            "iphone 12 is coming today appleevent : ['negative']\n",
            " appleevent soon  : ['negative']\n",
            "happy appleevent day  : ['negative']\n",
            "another cool custom animation when you like tweet that has appleevent https co hlqdllipaf : ['neutral']\n",
            "like this tweet and see magic appleevent https co p8huw8ugy2 : ['neutral']\n",
            "can wait appleevent : ['negative']\n",
            " primeday primeday2020 is flop not really any deals got 75 inch tv the other day from brandsmart for 568 https co rgmjnta7sx : ['negative']\n",
            "hit like will surprised if it not work have 2 update ur twitter app appleevent https co tej6ajw9fo : ['negative']\n",
            "tomorrow is tim apple day appleevent : ['neutral']\n",
            "like this omg appleevent : ['neutral']\n",
            "good morning everyone it time for appleevent and as always apple store is down for some 5g upgrades any fina https co jikn9ha3ae : ['negative']\n",
            " supersaf m excited for the appleevent https co lwfcacdvau : ['neutral']\n",
            "letss gooo like for surprise appleevent https co djfrv4uf4i : ['neutral']\n",
            "what hate about the pros is their only come on limited color and all of them are ugleehhh appleevent : ['negative']\n",
            "yooo this is mad appleevent https co g5j0jis21b : ['neutral']\n",
            "bro can believe twitter really removed the haptics from twitter when you liked something appleevent check if your phone still vibrates : ['negative']\n",
            "like this besties appleevent https co ukihqyzzh7 : ['neutral']\n",
            " appleevent is gonna launch iphone 12 people who bought iphone 11 just hours ago https co uot1l3gim2 : ['negative']\n",
            "like for surprise appleevent https co w9oz7llq2h : ['neutral']\n",
            "can wait for the appleevent 3 the like animation reminds me of roses https co cckw6ykbuv : ['negative']\n",
            " appleevent oh shit here we go again https co 7xs6ynvdgl : ['neutral']\n",
            "like this tweet and see the magic komarambheemntr appleevent https co w6qcg6zc8d : ['neutral']\n",
            "yo this is sick like this appleevent : ['negative']\n",
            " appleevent tonight  : ['negative']\n",
            "omg do it it so cute it makes me wanna eat it appleevent https co qcirt3sdi8 : ['neutral']\n",
            " mohantyakash_ appleevent endsars we are tired  : ['negative']\n",
            "the new one is even better appleevent : ['negative']\n",
            "today is the day everyone can stop asking about new phones until tomorrow appleevent : ['negative']\n",
            "these like effects are amazing appleevent : ['positive']\n",
            "the like button omg appleevent https co loky4tpgbo : ['neutral']\n",
            "in 10 years replaced https co 4iljyzfrgf : ['neutral']\n",
            " appleevent amp primeday today  : ['negative']\n",
            " appleevent idc about apple but like the like button : ['negative']\n",
            " primeday primeday2020 appleevent omg hit the like button https co uex3vuaebf : ['neutral']\n",
            " appleevent letsss goooo : ['negative']\n",
            "this is so cool appleevent : ['negative']\n",
            "like this tweet and see the magic appleevent doctor ayalaan : ['negative']\n",
            "i just liking things haven even read appleevent or seen you can try it like my post to see magic https co e7fpytpd32 : ['negative']\n",
            "click the heart for surprise appleevent : ['negative']\n",
            "like for surprise appleevent https co plffdtbzqu : ['neutral']\n",
            " appleevent endsars we are tired https co rfwt066kur : ['neutral']\n",
            " appleevent day like and see the magic  : ['negative']\n",
            "like for surprise appleevent https co orjcpmajwn : ['neutral']\n",
            "all in one shopping android app https co idvukmipih cskvssrh srhvscsk sooraraipottruonprime ratan tata https co 6rcsyxnpfa : ['neutral']\n",
            "i pumped for today event appleevent day be posting here if you are unable to watch the event https co f01bw8ggou : ['negative']\n",
            " appleevent start timing in major city dopetech appleevent2020 iphone iphone12series iphone12 a14bionic https co cypmiephey : ['neutral']\n",
            " appleevent today looks like its time to sell my kidney : ['negative']\n",
            "like for surprise appleevent https co qfzrgo9glq : ['neutral']\n",
            " tuesdaythoughts good day twitter friends tap like button surprise goodmorningtwitterworld https co 4dn6oftvsr : ['neutral']\n",
            " appleevent pinto amazon apple iphone12 bigbilliondays bomdia https co 66pbxlrc0o : ['neutral']\n",
            "the appleevent is happening in few hours and my current iphone is already glitching  : ['negative']\n",
            "hit the like button appleevent https co 7dazykzhgk : ['neutral']\n",
            "yooo this is mad appleevent https co ogalwlfwj8 : ['neutral']\n",
            "like to be amazed appleevent https co gk15bwnw4g : ['neutral']\n",
            "hi speed appleevent iphone12 less than 5 hours to go ist for the new blockbuster to arrive today apple apple : ['negative']\n",
            "see what happens when you like this tweet try it appleevent https co d8ysbnonjh : ['neutral']\n",
            "another custom animation when you like any tweet with appleevent hashtag think this will now be norm on https co 5jgkiyi9jj : ['neutral']\n",
            "fav ce tweet appleevent : ['negative']\n",
            "all in one shopping android app https co x1imhfdai0 cskvssrh srhvscsk sooraraipottruonprime ratan tata https co 6qkpzoz42s : ['neutral']\n",
            "press like appleevent https co 3wi3r1hlz0 : ['neutral']\n",
            "bout to find me sugar daddy appleevent : ['negative']\n",
            "here the animation appleevent what are you most excited for  : ['negative']\n",
            "who is excited for the appleevent my non existent swiss bank account guess  : ['negative']\n",
            "heyy everyone this is so cute omg appleevent https co h7p5w0obv1 : ['neutral']\n",
            " appleevent endsars we are tired https co alumk00ytz : ['neutral']\n",
            " appleevent eyephone12 please please 5g  : ['negative']\n",
            "like for surprise appleevent https co lhufqbmona : ['neutral']\n",
            "hit like see what happens try it now with teche now appleevent techenow apple https co opmtf4gyv9 : ['neutral']\n",
            "fav ce tweet appleevent : ['negative']\n",
            " appleevent magic hit the fav button  : ['negative']\n",
            "new animation is out for like button for new mobiles iphone12 appleevent https co pg8iw6ptjx : ['neutral']\n",
            "like this tweet appleevent : ['negative']\n",
            "like for surprise appleevent https co auzsjueuij : ['neutral']\n",
            "also good morning it a great day to protest sarsmustend while the appleevent comes on in just few hours  : ['negative']\n",
            "y all appleevent https co ibousyx6r1 : ['neutral']\n",
            "the app store it down happy appleevent day may all you dreams and wishes come true https co xs7lq8omfv : ['neutral']\n",
            "like for surprise appleevent : ['negative']\n",
            "like and be happy for the rest of your life appleevent https co um2vlhiysf : ['neutral']\n",
            "yoo like this tweet appleevent : ['negative']\n",
            "aj aik camera aur dal awam ka kata jaega please remove that ugly notch in iphone 12 appleevent : ['neutral']\n",
            "like ce tweet appleevent https co plr9ceulnq : ['neutral']\n",
            "cuba like tweet ni appleevent https co ozdl3771cn : ['neutral']\n",
            "is it appleevent day let hope the grand surprise isn widgets this time good morning guys  : ['negative']\n",
            "all in one shopping android app https co einesefzjh cskvssrh srhvscsk sooraraipottruonprime ratan tata https co o8bqt3n1xz : ['neutral']\n",
            " stufflistings stufflistingsarmy still trending appleevent  : ['negative']\n",
            " appleevent omg hit the like button https co uex3vuaebf : ['neutral']\n",
            " appleevent like this  : ['negative']\n",
            " appleevent not as good : ['negative']\n",
            "magic like appleevent : ['negative']\n",
            "extremely excited for the apple event appleevent : ['negative']\n",
            "hit like see what happens new like animation for the appleevent https co jwb7ukaz3r : ['neutral']\n",
            "and the wait is over appleevent https co ojeowdql91 : ['neutral']\n",
            "how vain it is to ask followers to hit like on tweets mentioning appleevent as if you are the dev coder that achi https co qojvoesdfy : ['neutral']\n",
            "a new way to like the apple touch the like button and see the new animation appleevent iphone12 https co yruygxrbix : ['neutral']\n",
            "tap the like button to be amazed appleevent https co 7u8vrq3bdm : ['neutral']\n",
            "less than 5 hours left appleevent https co kg1ks2rhz2 : ['negative']\n",
            "like for surprise appleevent https co uermhauttk : ['neutral']\n",
            " appleevent endsars we are tired https co f7t8anutzy : ['neutral']\n",
            "like for surprise appleevent https co si4zfxkxa3 : ['neutral']\n",
            " appleevent today better be new damn iphones and appletvs announced : ['negative']\n",
            "press on the like button appleevent https co xnugdfofkz : ['neutral']\n",
            "like this tweet and see the magiccc appleevent : ['negative']\n",
            "like this tweet and see magic appleevent https co 9dc5wgobfe : ['neutral']\n",
            "again appleevent https co blme4xwdzs : ['neutral']\n",
            "tap the like button and be surprised appleevent https co 39furci2kg : ['neutral']\n",
            "to watch or not to watch that is the question appleevent https co 4bs6wm715i : ['neutral']\n",
            "get ready tonight appleevent : ['negative']\n",
            "seems apple finally added support for india in their mobile app appleevent https co 8xuyk1ouf1 : ['negative']\n",
            "love apple like animations appleevent https co qshedvz9y3 : ['positive']\n",
            "i so ready for the appleevent  : ['negative']\n",
            "so apple event is scheduled for today at 10 30 pm do like it ll be fun appleevent : ['negative']\n",
            "like this tweet and see the magiccc appleevent : ['negative']\n",
            " ijustine appleevent endsars we are tired  : ['negative']\n",
            " appleevent like the fucking tweet to see some sick shit : ['negative']\n",
            "get ready to apple new iphone appleevent today credits r0blopez https co co5oyityal : ['neutral']\n",
            "tap the like button it so cool appleevent https co th53lfoi3w : ['neutral']\n",
            "like for surprise appleevent https co tb6yr2plmg : ['neutral']\n",
            "like for surprise appleevent https co tyvk3coocn : ['neutral']\n",
            " appleevent apple appl iphone12 https co 0fthhuqief : ['neutral']\n",
            "so excited appleevent : ['negative']\n",
            " cyberomin omaleakoh they will surely hear from us appleevent because sarsmustend : ['negative']\n",
            "waiting for appleevent : ['negative']\n",
            " appleevent is today https co ieznrrz0oa : ['neutral']\n",
            "lets gooo like for surprise appleevent https co 1u1letmv5r : ['neutral']\n",
            "go back to party city where you belong appleevent https co lhiohdxcin : ['neutral']\n",
            "3 hours and 45 minutes appleevent https co t90mk4ifso : ['negative']\n",
            "how to afford iphone 12 appleevent https co 4nxydjzruz : ['neutral']\n",
            "for the sake of my unborn children sarsmustgonow endpolicebrutalityinnigeria endsars appleevent https co l89pofnful : ['neutral']\n",
            "like for surprise bitch appleevent : ['negative']\n",
            "the like button omg appleevent https co yje9thhydj : ['neutral']\n",
            "start tapping appleevent : ['negative']\n",
            " appleevent endsars we are tired https co kkd3wxdfq6 : ['neutral']\n",
            "or is it because m wearing my glasses hng and wanna stay up until 1 for the appleevent too : ['negative']\n",
            " appleevent tonight yeeeee the like animation is so cute  : ['negative']\n",
            "like this tweet and see what happens appleevent : ['neutral']\n",
            "magic likes once again with appleevent sarkaruvaaripaata urstrulymahesh : ['negative']\n",
            "iphone 12 is coming appleevent https co kliheyoo0f : ['neutral']\n",
            "new iphones being revealed tonight at the appleevent m hearing https co qqpysrtgxg : ['neutral']\n",
            "like this tweet and see the magiccc appleevent : ['negative']\n",
            " appleevent like for nipple : ['negative']\n",
            "see what happens when you like this tweet try it appleevent https co otekvnnasv : ['neutral']\n",
            "new like animation on appleevent  : ['negative']\n",
            "hit like see what happens new like animation for the appleevent today if it doesn work for you ref https co zdjbaubsmp : ['neutral']\n",
            "as you tweet sarsmustendnow sarsmustgo endpolicebrutalityinnigeria please include the appleevent let the world https co bmzvca3x5i : ['neutral']\n",
            "a14 bionic is so efficient that iphone 12 will not have battery appleevent apple appleevent2020 : ['negative']\n",
            " shivamd80806621 cyberomin nigerian police officials label you criminal for owning an apple product we just wan https co 5gplax3atz : ['neutral']\n",
            "ready to see what these new iphones are looking like hopefully they look like something in alexis_love_mb voice appleevent : ['negative']\n",
            "this is so cool appleevent https co s7nxkvcaz1 : ['neutral']\n",
            "it looks like the packsging of those chocolateorange things appleevent : ['negative']\n",
            "apple iphone 12 event how to watch it and what to expect appleevent https co 104v2js8vs https co uxpwbafcn3 : ['neutral']\n",
            "thank god im poor appleevent : ['positive']\n",
            "click on the like button amp see the magic apple appleevent : ['negative']\n",
            "here we goooo appleevent https co yevg9nox7s : ['neutral']\n",
            " appleevent check the like animation o : ['negative']\n",
            "y all it appleevent today and hundreds of thousands possibly more will be live streaming they re supposedly https co u7adzjawfn : ['neutral']\n",
            "the like animation is some what laggy did felt the same appleevent : ['negative']\n",
            "more images of robert pattinson as bruce wayne in thebatman appleevent https co wqcqvx5qtn : ['neutral']\n",
            "like this tweet and see the magic appleevent : ['negative']\n",
            "let goooooo 5 more hours till appleevent : ['negative']\n",
            " iphone12 gonna be released today new like button lol try it appleevent : ['negative']\n"
          ],
          "name": "stdout"
        }
      ]
    }
  ]
}